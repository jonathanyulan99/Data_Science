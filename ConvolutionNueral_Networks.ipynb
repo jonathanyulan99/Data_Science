{
 "cells": [
  {
   "cell_type": "markdown",
   "metadata": {},
   "source": [
    "## Convolution Neural Network for Computer Vision"
   ]
  },
  {
   "cell_type": "markdown",
   "metadata": {},
   "source": [
    "#### Reference: Deep Learning with Python, 2nd Edition Chapter 8 or Chapter 5 of the 1st Edition"
   ]
  },
  {
   "cell_type": "code",
   "execution_count": 1,
   "metadata": {},
   "outputs": [],
   "source": [
    "import pandas as pd\n",
    "import numpy as np\n",
    "import matplotlib.pyplot as plt\n",
    "import seaborn as sns\n",
    "import warnings\n",
    "warnings.filterwarnings('ignore')"
   ]
  },
  {
   "cell_type": "code",
   "execution_count": 2,
   "metadata": {},
   "outputs": [],
   "source": [
    "from tensorflow import keras\n",
    "from tensorflow.keras import layers"
   ]
  },
  {
   "cell_type": "code",
   "execution_count": 3,
   "metadata": {},
   "outputs": [],
   "source": [
    "from tensorflow.keras.models import Sequential\n",
    "from tensorflow.keras.layers import BatchNormalization\n",
    "from tensorflow.keras.layers import Conv2D\n",
    "from tensorflow.keras.layers import MaxPooling2D\n",
    "from tensorflow.keras.layers import Activation\n",
    "from tensorflow.keras.layers import Dropout\n",
    "from tensorflow.keras.layers import Dense\n",
    "from tensorflow.keras.layers import Flatten\n",
    "from tensorflow.keras.layers import Input\n",
    "from tensorflow.keras.models import Model"
   ]
  },
  {
   "cell_type": "code",
   "execution_count": 4,
   "metadata": {},
   "outputs": [],
   "source": [
    "# define a small convent\n",
    "inputs = Input(shape=(28, 28, 1))\n",
    "\n",
    "x = inputs\n",
    "\n",
    "# for color images, may need to scale and normalize the inputs\n",
    "#x = layers.Rescaling(1./255)(inputs)\n",
    "#x = layers.BatchNormalization()(x)\n",
    "\n",
    "x = Conv2D(filters=32, kernel_size=3, activation=\"relu\")(x)\n",
    "x = MaxPooling2D(pool_size=2)(x)\n",
    "x = Conv2D(filters=64, kernel_size=3, activation=\"relu\")(x)\n",
    "x = MaxPooling2D(pool_size=2)(x)\n",
    "x = Conv2D(filters=128, kernel_size=3, activation=\"relu\")(x)\n",
    "x = Flatten()(x)\n",
    "outputs = Dense(10, activation=\"softmax\")(x)\n",
    "model = Model(inputs=inputs, outputs=outputs)"
   ]
  },
  {
   "cell_type": "code",
   "execution_count": 5,
   "metadata": {},
   "outputs": [
    {
     "name": "stdout",
     "output_type": "stream",
     "text": [
      "Model: \"model\"\n",
      "_________________________________________________________________\n",
      " Layer (type)                Output Shape              Param #   \n",
      "=================================================================\n",
      " input_1 (InputLayer)        [(None, 28, 28, 1)]       0         \n",
      "                                                                 \n",
      " conv2d (Conv2D)             (None, 26, 26, 32)        320       \n",
      "                                                                 \n",
      " max_pooling2d (MaxPooling2D  (None, 13, 13, 32)       0         \n",
      " )                                                               \n",
      "                                                                 \n",
      " conv2d_1 (Conv2D)           (None, 11, 11, 64)        18496     \n",
      "                                                                 \n",
      " max_pooling2d_1 (MaxPooling  (None, 5, 5, 64)         0         \n",
      " 2D)                                                             \n",
      "                                                                 \n",
      " conv2d_2 (Conv2D)           (None, 3, 3, 128)         73856     \n",
      "                                                                 \n",
      " flatten (Flatten)           (None, 1152)              0         \n",
      "                                                                 \n",
      " dense (Dense)               (None, 10)                11530     \n",
      "                                                                 \n",
      "=================================================================\n",
      "Total params: 104,202\n",
      "Trainable params: 104,202\n",
      "Non-trainable params: 0\n",
      "_________________________________________________________________\n"
     ]
    }
   ],
   "source": [
    "model.summary()"
   ]
  },
  {
   "cell_type": "code",
   "execution_count": 6,
   "metadata": {},
   "outputs": [],
   "source": [
    "from keras.datasets import mnist"
   ]
  },
  {
   "cell_type": "code",
   "execution_count": 7,
   "metadata": {},
   "outputs": [
    {
     "data": {
      "text/plain": [
       "(60000, 28, 28, 1)"
      ]
     },
     "execution_count": 7,
     "metadata": {},
     "output_type": "execute_result"
    }
   ],
   "source": [
    "(train_images, train_labels), (test_images, test_labels) = mnist.load_data()\n",
    "train_images = train_images.reshape((60000, 28, 28, 1))\n",
    "train_images = train_images.astype(\"float32\") / 255\n",
    "test_images = test_images.reshape((10000, 28, 28, 1))\n",
    "test_images = test_images.astype(\"float32\") / 255\n",
    "train_images.shape"
   ]
  },
  {
   "cell_type": "markdown",
   "metadata": {},
   "source": [
    "### Build the model"
   ]
  },
  {
   "cell_type": "code",
   "execution_count": 8,
   "metadata": {},
   "outputs": [
    {
     "name": "stdout",
     "output_type": "stream",
     "text": [
      "Epoch 1/20\n",
      "750/750 [==============================] - 31s 40ms/step - loss: 0.1867 - accuracy: 0.9415 - val_loss: 0.0599 - val_accuracy: 0.9816\n",
      "Epoch 2/20\n",
      "750/750 [==============================] - 27s 37ms/step - loss: 0.0502 - accuracy: 0.9843 - val_loss: 0.0804 - val_accuracy: 0.9754\n",
      "Epoch 3/20\n",
      "750/750 [==============================] - 28s 37ms/step - loss: 0.0343 - accuracy: 0.9893 - val_loss: 0.0415 - val_accuracy: 0.9876\n",
      "Epoch 4/20\n",
      "750/750 [==============================] - 34s 45ms/step - loss: 0.0246 - accuracy: 0.9920 - val_loss: 0.0501 - val_accuracy: 0.9862\n",
      "Epoch 5/20\n",
      "750/750 [==============================] - 34s 45ms/step - loss: 0.0199 - accuracy: 0.9934 - val_loss: 0.0409 - val_accuracy: 0.9892\n",
      "Epoch 6/20\n",
      "750/750 [==============================] - 37s 49ms/step - loss: 0.0155 - accuracy: 0.9950 - val_loss: 0.0404 - val_accuracy: 0.9900\n",
      "Epoch 7/20\n",
      "750/750 [==============================] - 32s 42ms/step - loss: 0.0114 - accuracy: 0.9965 - val_loss: 0.0369 - val_accuracy: 0.9903\n",
      "Epoch 8/20\n",
      "750/750 [==============================] - 34s 46ms/step - loss: 0.0096 - accuracy: 0.9973 - val_loss: 0.0421 - val_accuracy: 0.9913\n",
      "Epoch 9/20\n",
      "750/750 [==============================] - 32s 42ms/step - loss: 0.0080 - accuracy: 0.9975 - val_loss: 0.0406 - val_accuracy: 0.9909\n",
      "Epoch 10/20\n",
      "750/750 [==============================] - 31s 41ms/step - loss: 0.0055 - accuracy: 0.9983 - val_loss: 0.0485 - val_accuracy: 0.9918\n",
      "Epoch 11/20\n",
      "750/750 [==============================] - 32s 42ms/step - loss: 0.0055 - accuracy: 0.9982 - val_loss: 0.0521 - val_accuracy: 0.9908\n",
      "Epoch 12/20\n",
      "750/750 [==============================] - 34s 45ms/step - loss: 0.0040 - accuracy: 0.9986 - val_loss: 0.0561 - val_accuracy: 0.9920\n",
      "Epoch 13/20\n",
      "750/750 [==============================] - 35s 47ms/step - loss: 0.0039 - accuracy: 0.9987 - val_loss: 0.0567 - val_accuracy: 0.9902\n",
      "Epoch 14/20\n",
      "750/750 [==============================] - 34s 45ms/step - loss: 0.0033 - accuracy: 0.9992 - val_loss: 0.0645 - val_accuracy: 0.9920\n",
      "Epoch 15/20\n",
      "750/750 [==============================] - 39s 51ms/step - loss: 0.0025 - accuracy: 0.9991 - val_loss: 0.0697 - val_accuracy: 0.9918\n",
      "Epoch 16/20\n",
      "750/750 [==============================] - 38s 50ms/step - loss: 0.0022 - accuracy: 0.9992 - val_loss: 0.0736 - val_accuracy: 0.9917\n",
      "Epoch 17/20\n",
      "750/750 [==============================] - 40s 53ms/step - loss: 0.0024 - accuracy: 0.9994 - val_loss: 0.0822 - val_accuracy: 0.9900\n",
      "Epoch 18/20\n",
      "750/750 [==============================] - 34s 45ms/step - loss: 0.0017 - accuracy: 0.9995 - val_loss: 0.0747 - val_accuracy: 0.9918\n",
      "Epoch 19/20\n",
      "750/750 [==============================] - 35s 46ms/step - loss: 0.0016 - accuracy: 0.9994 - val_loss: 0.0789 - val_accuracy: 0.9915\n",
      "Epoch 20/20\n",
      "750/750 [==============================] - 33s 45ms/step - loss: 0.0013 - accuracy: 0.9996 - val_loss: 0.0725 - val_accuracy: 0.9920\n"
     ]
    }
   ],
   "source": [
    "model.compile(optimizer='adam'\n",
    "    loss=\"binary_crossentropy\",\n",
    "    metrics=[\"accuracy\"])\n",
    "\n",
    "# validation_split means spare 20% sample out of the input training dataset as validation dataset\n",
    "history = model.fit(train_images, train_labels, epochs=20, batch_size=64, validation_split = 0.2)"
   ]
  },
  {
   "cell_type": "markdown",
   "metadata": {},
   "source": [
    "### Plot learning Curves"
   ]
  },
  {
   "cell_type": "code",
   "execution_count": 9,
   "metadata": {},
   "outputs": [
    {
     "data": {
      "image/png": "[encoded data removed]",
      "text/plain": [
       "<Figure size 432x288 with 1 Axes>"
      ]
     },
     "metadata": {
      "needs_background": "light"
     },
     "output_type": "display_data"
    }
   ],
   "source": [
    "# summarize history for los\n",
    "plt.plot(history.history['loss'])\n",
    "plt.plot(history.history['val_loss'])\n",
    "plt.title('model loss')\n",
    "plt.ylabel('loss')\n",
    "plt.xlabel('epoch')\n",
    "plt.legend(['train', 'validation'], loc='upper left')\n",
    "plt.show()"
   ]
  },
  {
   "cell_type": "code",
   "execution_count": 10,
   "metadata": {},
   "outputs": [
    {
     "data": {
      "image/png": "[encoded data removed]",
      "text/plain": [
       "<Figure size 432x288 with 1 Axes>"
      ]
     },
     "metadata": {
      "needs_background": "light"
     },
     "output_type": "display_data"
    }
   ],
   "source": [
    "# summarize history for accuracy\n",
    "plt.plot(history.history['accuracy'])\n",
    "plt.plot(history.history['val_accuracy'])\n",
    "plt.title('model accuracy')\n",
    "plt.ylabel('accuracy')\n",
    "plt.xlabel('epoch')\n",
    "plt.legend(['train', 'validation'], loc='upper left')\n",
    "plt.show()"
   ]
  },
  {
   "cell_type": "markdown",
   "metadata": {},
   "source": [
    "#### The validation error starts to increase after 9 epochs. So after 10 epoch, we are probably in an overfit situation"
   ]
  },
  {
   "cell_type": "markdown",
   "metadata": {},
   "source": [
    "### Evaluating the model out-of-sample"
   ]
  },
  {
   "cell_type": "code",
   "execution_count": 11,
   "metadata": {},
   "outputs": [
    {
     "name": "stdout",
     "output_type": "stream",
     "text": [
      "313/313 [==============================] - 2s 6ms/step - loss: 0.0573 - accuracy: 0.9934\n",
      "Test accuracy: 0.993\n"
     ]
    }
   ],
   "source": [
    "test_loss, test_acc = model.evaluate(test_images, test_labels)\n",
    "print(f\"Test accuracy: {test_acc:.3f}\")"
   ]
  },
  {
   "cell_type": "markdown",
   "metadata": {},
   "source": [
    "***99% accuracy is wonderful***"
   ]
  },
  {
   "cell_type": "markdown",
   "metadata": {},
   "source": [
    "### You should try different model, especially test what happens if you miss the MaxPooling"
   ]
  },
  {
   "cell_type": "code",
   "execution_count": 12,
   "metadata": {},
   "outputs": [
    {
     "name": "stdout",
     "output_type": "stream",
     "text": [
      "Model: \"model_1\"\n",
      "_________________________________________________________________\n",
      " Layer (type)                Output Shape              Param #   \n",
      "=================================================================\n",
      " input_2 (InputLayer)        [(None, 28, 28, 1)]       0         \n",
      "                                                                 \n",
      " conv2d_3 (Conv2D)           (None, 26, 26, 32)        320       \n",
      "                                                                 \n",
      " conv2d_4 (Conv2D)           (None, 24, 24, 64)        18496     \n",
      "                                                                 \n",
      " conv2d_5 (Conv2D)           (None, 22, 22, 128)       73856     \n",
      "                                                                 \n",
      " flatten_1 (Flatten)         (None, 61952)             0         \n",
      "                                                                 \n",
      " dense_1 (Dense)             (None, 10)                619530    \n",
      "                                                                 \n",
      "=================================================================\n",
      "Total params: 712,202\n",
      "Trainable params: 712,202\n",
      "Non-trainable params: 0\n",
      "_________________________________________________________________\n"
     ]
    }
   ],
   "source": [
    "# define a small convent\n",
    "inputs = Input(shape=(28, 28, 1))\n",
    "x = Conv2D(filters=32, kernel_size=3, activation=\"relu\")(inputs)\n",
    "x = Conv2D(filters=64, kernel_size=3, activation=\"relu\")(x)\n",
    "x = Conv2D(filters=128, kernel_size=3, activation=\"relu\")(x)\n",
    "x = Flatten()(x)\n",
    "outputs = Dense(10, activation=\"softmax\")(x)\n",
    "model2 = Model(inputs=inputs, outputs=outputs)\n",
    "model2.summary()"
   ]
  },
  {
   "cell_type": "code",
   "execution_count": 13,
   "metadata": {},
   "outputs": [],
   "source": [
    "#model2.compile(optimizer=\"rmsprop\",\n",
    "#    loss=\"sparse_categorical_crossentropy\",\n",
    "#    metrics=[\"accuracy\"])\n",
    "#model2.fit(train_images, train_labels, epochs=5, batch_size=64)"
   ]
  },
  {
   "cell_type": "code",
   "execution_count": 14,
   "metadata": {},
   "outputs": [],
   "source": [
    "#test_loss, test_acc = model.evaluate(test_images, test_labels)\n",
    "#print(f\"Test accuracy: {test_acc:.3f}\")"
   ]
  },
  {
   "cell_type": "code",
   "execution_count": null,
   "metadata": {},
   "outputs": [],
   "source": []
  }
 ],
 "metadata": {
  "kernelspec": {
   "display_name": "Python 3",
   "language": "python",
   "name": "python3"
  },
  "language_info": {
   "codemirror_mode": {
    "name": "ipython",
    "version": 3
   },
   "file_extension": ".py",
   "mimetype": "text/x-python",
   "name": "python",
   "nbconvert_exporter": "python",
   "pygments_lexer": "ipython3",
   "version": "3.8.5"
  }
 },
 "nbformat": 4,
 "nbformat_minor": 5
}
