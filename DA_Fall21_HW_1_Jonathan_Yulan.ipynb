{
 "cells": [
  {
   "cell_type": "markdown",
   "metadata": {},
   "source": [
    "## DA_Fall21_HW_1 Due at Mid-night 10/19/2021"
   ]
  },
  {
   "cell_type": "markdown",
   "metadata": {},
   "source": [
    "### This homework will cover the following skills set\n",
    "* Using sql \n",
    "* Checking for null values and outliers\n",
    "* Calculate simple statistics using both SQL and Pandas \n",
    "* Calculate skew and correlation\n",
    "* Basic Data Visualization\n",
    "* How to fix missing values"
   ]
  },
  {
   "cell_type": "markdown",
   "metadata": {},
   "source": [
    "## Late Policy: Take off 50% after one day, 80% after two days"
   ]
  },
  {
   "cell_type": "markdown",
   "metadata": {},
   "source": [
    "**Make sure you have pandasql installed. If not, make sure you run the code in the following cell**"
   ]
  },
  {
   "cell_type": "code",
   "execution_count": 21,
   "metadata": {},
   "outputs": [],
   "source": [
    "import os\n",
    "try:\n",
    "    import pandasql as ps\n",
    "except:\n",
    "    print(\"Failed in import pandasql\")\n",
    "    os.system(\"pip install pandasql\")"
   ]
  },
  {
   "cell_type": "markdown",
   "metadata": {},
   "source": [
    "**Import all standard libaries**"
   ]
  },
  {
   "cell_type": "code",
   "execution_count": 22,
   "metadata": {},
   "outputs": [],
   "source": [
    "import pandas as pd\n",
    "import pandasql as ps\n",
    "import numpy as np\n",
    "import matplotlib.pyplot as plt\n",
    "import seaborn as sns"
   ]
  },
  {
   "cell_type": "markdown",
   "metadata": {},
   "source": [
    "## Loading Car Crashes dataset ##"
   ]
  },
  {
   "cell_type": "code",
   "execution_count": 23,
   "metadata": {},
   "outputs": [
    {
     "name": "stdout",
     "output_type": "stream",
     "text": [
      "(54, 10)\n"
     ]
    },
    {
     "data": {
      "text/html": [
       "<div>\n",
       "<style scoped>\n",
       "    .dataframe tbody tr th:only-of-type {\n",
       "        vertical-align: middle;\n",
       "    }\n",
       "\n",
       "    .dataframe tbody tr th {\n",
       "        vertical-align: top;\n",
       "    }\n",
       "\n",
       "    .dataframe thead th {\n",
       "        text-align: right;\n",
       "    }\n",
       "</style>\n",
       "<table border=\"1\" class=\"dataframe\">\n",
       "  <thead>\n",
       "    <tr style=\"text-align: right;\">\n",
       "      <th></th>\n",
       "      <th>accidents</th>\n",
       "      <th>speeding</th>\n",
       "      <th>alcohol</th>\n",
       "      <th>not_distracted</th>\n",
       "      <th>no_previous</th>\n",
       "      <th>ins_premium</th>\n",
       "      <th>ins_losses</th>\n",
       "      <th>state</th>\n",
       "      <th>region</th>\n",
       "      <th>division</th>\n",
       "    </tr>\n",
       "  </thead>\n",
       "  <tbody>\n",
       "    <tr>\n",
       "      <th>0</th>\n",
       "      <td>18.8</td>\n",
       "      <td>7.332</td>\n",
       "      <td>5.640</td>\n",
       "      <td>18.048</td>\n",
       "      <td>15.040</td>\n",
       "      <td>784.55</td>\n",
       "      <td>145.08</td>\n",
       "      <td>AL</td>\n",
       "      <td>South</td>\n",
       "      <td>East South Central</td>\n",
       "    </tr>\n",
       "    <tr>\n",
       "      <th>1</th>\n",
       "      <td>18.1</td>\n",
       "      <td>7.421</td>\n",
       "      <td>4.525</td>\n",
       "      <td>16.290</td>\n",
       "      <td>17.014</td>\n",
       "      <td>1053.48</td>\n",
       "      <td>133.93</td>\n",
       "      <td>AK</td>\n",
       "      <td>West</td>\n",
       "      <td>Pacific</td>\n",
       "    </tr>\n",
       "    <tr>\n",
       "      <th>2</th>\n",
       "      <td>18.6</td>\n",
       "      <td>6.510</td>\n",
       "      <td>5.208</td>\n",
       "      <td>15.624</td>\n",
       "      <td>17.856</td>\n",
       "      <td>899.47</td>\n",
       "      <td>110.35</td>\n",
       "      <td>AZ</td>\n",
       "      <td>West</td>\n",
       "      <td>Mountain</td>\n",
       "    </tr>\n",
       "    <tr>\n",
       "      <th>3</th>\n",
       "      <td>22.4</td>\n",
       "      <td>4.032</td>\n",
       "      <td>5.824</td>\n",
       "      <td>21.056</td>\n",
       "      <td>21.280</td>\n",
       "      <td>827.34</td>\n",
       "      <td>142.39</td>\n",
       "      <td>AR</td>\n",
       "      <td>South</td>\n",
       "      <td>West South Central</td>\n",
       "    </tr>\n",
       "    <tr>\n",
       "      <th>4</th>\n",
       "      <td>12.0</td>\n",
       "      <td>4.200</td>\n",
       "      <td>3.360</td>\n",
       "      <td>10.920</td>\n",
       "      <td>10.680</td>\n",
       "      <td>878.41</td>\n",
       "      <td>165.63</td>\n",
       "      <td>CA</td>\n",
       "      <td>West</td>\n",
       "      <td>Pacific</td>\n",
       "    </tr>\n",
       "  </tbody>\n",
       "</table>\n",
       "</div>"
      ],
      "text/plain": [
       "   accidents  speeding  alcohol  not_distracted  no_previous  ins_premium  \\\n",
       "0       18.8     7.332    5.640          18.048       15.040       784.55   \n",
       "1       18.1     7.421    4.525          16.290       17.014      1053.48   \n",
       "2       18.6     6.510    5.208          15.624       17.856       899.47   \n",
       "3       22.4     4.032    5.824          21.056       21.280       827.34   \n",
       "4       12.0     4.200    3.360          10.920       10.680       878.41   \n",
       "\n",
       "   ins_losses state region            division  \n",
       "0      145.08    AL  South  East South Central  \n",
       "1      133.93    AK   West             Pacific  \n",
       "2      110.35    AZ   West            Mountain  \n",
       "3      142.39    AR  South  West South Central  \n",
       "4      165.63    CA   West             Pacific  "
      ]
     },
     "execution_count": 23,
     "metadata": {},
     "output_type": "execute_result"
    }
   ],
   "source": [
    "crash = pd.read_csv(\"car_crashes2.csv\")\n",
    "print(crash.shape)\n",
    "crash.head()"
   ]
  },
  {
   "cell_type": "markdown",
   "metadata": {},
   "source": [
    "* accidents is the total number of crashes for each state\n",
    "* speeding is the average speeding in each state"
   ]
  },
  {
   "cell_type": "code",
   "execution_count": 27,
   "metadata": {},
   "outputs": [
    {
     "data": {
      "text/html": [
       "<div>\n",
       "<style scoped>\n",
       "    .dataframe tbody tr th:only-of-type {\n",
       "        vertical-align: middle;\n",
       "    }\n",
       "\n",
       "    .dataframe tbody tr th {\n",
       "        vertical-align: top;\n",
       "    }\n",
       "\n",
       "    .dataframe thead th {\n",
       "        text-align: right;\n",
       "    }\n",
       "</style>\n",
       "<table border=\"1\" class=\"dataframe\">\n",
       "  <thead>\n",
       "    <tr style=\"text-align: right;\">\n",
       "      <th></th>\n",
       "      <th>accidents</th>\n",
       "      <th>speeding</th>\n",
       "      <th>alcohol</th>\n",
       "      <th>not_distracted</th>\n",
       "      <th>no_previous</th>\n",
       "      <th>ins_premium</th>\n",
       "      <th>ins_losses</th>\n",
       "    </tr>\n",
       "  </thead>\n",
       "  <tbody>\n",
       "    <tr>\n",
       "      <th>count</th>\n",
       "      <td>54.000000</td>\n",
       "      <td>53.000000</td>\n",
       "      <td>54.000000</td>\n",
       "      <td>54.000000</td>\n",
       "      <td>54.000000</td>\n",
       "      <td>53.000000</td>\n",
       "      <td>54.000000</td>\n",
       "    </tr>\n",
       "    <tr>\n",
       "      <th>mean</th>\n",
       "      <td>15.668519</td>\n",
       "      <td>5.028755</td>\n",
       "      <td>5.506778</td>\n",
       "      <td>13.545407</td>\n",
       "      <td>13.931500</td>\n",
       "      <td>908.318113</td>\n",
       "      <td>133.967407</td>\n",
       "    </tr>\n",
       "    <tr>\n",
       "      <th>std</th>\n",
       "      <td>4.087386</td>\n",
       "      <td>2.000479</td>\n",
       "      <td>5.157681</td>\n",
       "      <td>4.463259</td>\n",
       "      <td>3.730217</td>\n",
       "      <td>232.237787</td>\n",
       "      <td>24.703393</td>\n",
       "    </tr>\n",
       "    <tr>\n",
       "      <th>min</th>\n",
       "      <td>5.900000</td>\n",
       "      <td>1.792000</td>\n",
       "      <td>1.593000</td>\n",
       "      <td>1.760000</td>\n",
       "      <td>5.900000</td>\n",
       "      <td>641.960000</td>\n",
       "      <td>82.750000</td>\n",
       "    </tr>\n",
       "    <tr>\n",
       "      <th>25%</th>\n",
       "      <td>12.725000</td>\n",
       "      <td>3.774000</td>\n",
       "      <td>3.891000</td>\n",
       "      <td>10.345000</td>\n",
       "      <td>11.262000</td>\n",
       "      <td>768.950000</td>\n",
       "      <td>112.332500</td>\n",
       "    </tr>\n",
       "    <tr>\n",
       "      <th>50%</th>\n",
       "      <td>15.450000</td>\n",
       "      <td>4.608000</td>\n",
       "      <td>4.542000</td>\n",
       "      <td>13.816000</td>\n",
       "      <td>13.717000</td>\n",
       "      <td>861.180000</td>\n",
       "      <td>135.840000</td>\n",
       "    </tr>\n",
       "    <tr>\n",
       "      <th>75%</th>\n",
       "      <td>18.350000</td>\n",
       "      <td>6.510000</td>\n",
       "      <td>5.622000</td>\n",
       "      <td>16.215000</td>\n",
       "      <td>16.579000</td>\n",
       "      <td>1011.140000</td>\n",
       "      <td>152.065000</td>\n",
       "    </tr>\n",
       "    <tr>\n",
       "      <th>max</th>\n",
       "      <td>23.900000</td>\n",
       "      <td>9.450000</td>\n",
       "      <td>40.642000</td>\n",
       "      <td>23.661000</td>\n",
       "      <td>21.280000</td>\n",
       "      <td>2000.030000</td>\n",
       "      <td>194.780000</td>\n",
       "    </tr>\n",
       "  </tbody>\n",
       "</table>\n",
       "</div>"
      ],
      "text/plain": [
       "       accidents   speeding    alcohol  not_distracted  no_previous  \\\n",
       "count  54.000000  53.000000  54.000000       54.000000    54.000000   \n",
       "mean   15.668519   5.028755   5.506778       13.545407    13.931500   \n",
       "std     4.087386   2.000479   5.157681        4.463259     3.730217   \n",
       "min     5.900000   1.792000   1.593000        1.760000     5.900000   \n",
       "25%    12.725000   3.774000   3.891000       10.345000    11.262000   \n",
       "50%    15.450000   4.608000   4.542000       13.816000    13.717000   \n",
       "75%    18.350000   6.510000   5.622000       16.215000    16.579000   \n",
       "max    23.900000   9.450000  40.642000       23.661000    21.280000   \n",
       "\n",
       "       ins_premium  ins_losses  \n",
       "count    53.000000   54.000000  \n",
       "mean    908.318113  133.967407  \n",
       "std     232.237787   24.703393  \n",
       "min     641.960000   82.750000  \n",
       "25%     768.950000  112.332500  \n",
       "50%     861.180000  135.840000  \n",
       "75%    1011.140000  152.065000  \n",
       "max    2000.030000  194.780000  "
      ]
     },
     "execution_count": 27,
     "metadata": {},
     "output_type": "execute_result"
    }
   ],
   "source": [
    "crash.describe()"
   ]
  },
  {
   "cell_type": "markdown",
   "metadata": {},
   "source": [
    "## Question 1. Check if there are any null or NA"
   ]
  },
  {
   "cell_type": "code",
   "execution_count": 28,
   "metadata": {},
   "outputs": [
    {
     "data": {
      "text/plain": [
       "accidents         0\n",
       "speeding          1\n",
       "alcohol           0\n",
       "not_distracted    0\n",
       "no_previous       0\n",
       "ins_premium       1\n",
       "ins_losses        0\n",
       "state             0\n",
       "region            0\n",
       "division          0\n",
       "dtype: int64"
      ]
     },
     "execution_count": 28,
     "metadata": {},
     "output_type": "execute_result"
    }
   ],
   "source": [
    "crash.isnull().sum()"
   ]
  },
  {
   "cell_type": "markdown",
   "metadata": {},
   "source": [
    "## Question 2. Remove any rows that has null or NA"
   ]
  },
  {
   "cell_type": "code",
   "execution_count": 59,
   "metadata": {},
   "outputs": [
    {
     "name": "stdout",
     "output_type": "stream",
     "text": [
      "(52, 10)\n",
      "<class 'pandas.core.frame.DataFrame'>\n",
      "Int64Index: 52 entries, 0 to 52\n",
      "Data columns (total 10 columns):\n",
      " #   Column          Non-Null Count  Dtype  \n",
      "---  ------          --------------  -----  \n",
      " 0   accidents       52 non-null     float64\n",
      " 1   speeding        52 non-null     float64\n",
      " 2   alcohol         52 non-null     float64\n",
      " 3   not_distracted  52 non-null     float64\n",
      " 4   no_previous     52 non-null     float64\n",
      " 5   ins_premium     52 non-null     float64\n",
      " 6   ins_losses      52 non-null     float64\n",
      " 7   state           52 non-null     object \n",
      " 8   region          52 non-null     object \n",
      " 9   division        52 non-null     object \n",
      "dtypes: float64(7), object(3)\n",
      "memory usage: 4.5+ KB\n"
     ]
    },
    {
     "data": {
      "text/plain": [
       "accidents         0\n",
       "speeding          0\n",
       "alcohol           0\n",
       "not_distracted    0\n",
       "no_previous       0\n",
       "ins_premium       0\n",
       "ins_losses        0\n",
       "state             0\n",
       "region            0\n",
       "division          0\n",
       "dtype: int64"
      ]
     },
     "execution_count": 59,
     "metadata": {},
     "output_type": "execute_result"
    }
   ],
   "source": [
    "crash = crash.dropna()\n",
    "\n",
    "# Sanity Check\n",
    "print(crash.shape)\n",
    "\n",
    "# print how many null values there are\n",
    "crash.info()\n",
    "crash.duplicated().sum()\n",
    "crash.isnull().sum()"
   ]
  },
  {
   "cell_type": "markdown",
   "metadata": {},
   "source": [
    "## Question 3. Check if there is any outliers in all numerical fields using both scatter and boxplot"
   ]
  },
  {
   "cell_type": "code",
   "execution_count": 15,
   "metadata": {},
   "outputs": [
    {
     "data": {
      "text/plain": [
       "accidents         False\n",
       "speeding          False\n",
       "alcohol           False\n",
       "not_distracted    False\n",
       "no_previous       False\n",
       "ins_premium       False\n",
       "ins_losses        False\n",
       "state             False\n",
       "region            False\n",
       "division          False\n",
       "dtype: bool"
      ]
     },
     "execution_count": 15,
     "metadata": {},
     "output_type": "execute_result"
    }
   ],
   "source": [
    "crash.isnull().any()"
   ]
  },
  {
   "cell_type": "markdown",
   "metadata": {},
   "source": [
    "## Question 4. Display and Remove (the real) outliers"
   ]
  },
  {
   "cell_type": "code",
   "execution_count": 44,
   "metadata": {},
   "outputs": [
    {
     "data": {
      "image/png": "[encoded data removed]",
      "text/plain": [
       "<Figure size 432x288 with 1 Axes>"
      ]
     },
     "metadata": {
      "needs_background": "light"
     },
     "output_type": "display_data"
    },
    {
     "data": {
      "image/png": "[encoded data removed]",
      "text/plain": [
       "<Figure size 432x288 with 1 Axes>"
      ]
     },
     "metadata": {
      "needs_background": "light"
     },
     "output_type": "display_data"
    },
    {
     "data": {
      "image/png": "[encoded data removed]",
      "text/plain": [
       "<Figure size 432x288 with 1 Axes>"
      ]
     },
     "metadata": {
      "needs_background": "light"
     },
     "output_type": "display_data"
    },
    {
     "data": {
      "image/png": "[encoded data removed]",
      "text/plain": [
       "<Figure size 432x288 with 1 Axes>"
      ]
     },
     "metadata": {
      "needs_background": "light"
     },
     "output_type": "display_data"
    },
    {
     "data": {
      "image/png": "[encoded data removed]",
      "text/plain": [
       "<Figure size 432x288 with 1 Axes>"
      ]
     },
     "metadata": {
      "needs_background": "light"
     },
     "output_type": "display_data"
    },
    {
     "data": {
      "image/png": "[encoded data removed]",
      "text/plain": [
       "<Figure size 432x288 with 1 Axes>"
      ]
     },
     "metadata": {
      "needs_background": "light"
     },
     "output_type": "display_data"
    }
   ],
   "source": [
    "features = ['speeding','alcohol','not_distracted','no_previous','ins_premium','ins_losses']\n",
    "for feature in features:\n",
    "    crash.plot(kind='scatter',x=feature, y='accidents')"
   ]
  },
  {
   "cell_type": "code",
   "execution_count": 51,
   "metadata": {},
   "outputs": [
    {
     "data": {
      "text/plain": [
       "<AxesSubplot:xlabel='alcohol'>"
      ]
     },
     "execution_count": 51,
     "metadata": {},
     "output_type": "execute_result"
    },
    {
     "data": {
      "image/png": "[encoded data removed]",
      "text/plain": [
       "<Figure size 432x288 with 1 Axes>"
      ]
     },
     "metadata": {
      "needs_background": "light"
     },
     "output_type": "display_data"
    }
   ],
   "source": [
    "sns.boxplot(x=crash['alcohol'])"
   ]
  },
  {
   "cell_type": "code",
   "execution_count": 54,
   "metadata": {},
   "outputs": [
    {
     "data": {
      "text/plain": [
       "<AxesSubplot:ylabel='not_distracted'>"
      ]
     },
     "execution_count": 54,
     "metadata": {},
     "output_type": "execute_result"
    },
    {
     "data": {
      "image/png": "[encoded data removed]",
      "text/plain": [
       "<Figure size 432x288 with 1 Axes>"
      ]
     },
     "metadata": {
      "needs_background": "light"
     },
     "output_type": "display_data"
    }
   ],
   "source": [
    "sns.boxplot(y='not_distracted',data=crash)"
   ]
  },
  {
   "cell_type": "code",
   "execution_count": 63,
   "metadata": {},
   "outputs": [
    {
     "data": {
      "text/plain": [
       "<AxesSubplot:ylabel='alcohol'>"
      ]
     },
     "execution_count": 63,
     "metadata": {},
     "output_type": "execute_result"
    },
    {
     "data": {
      "image/png": "[encoded data removed]",
      "text/plain": [
       "<Figure size 432x288 with 1 Axes>"
      ]
     },
     "metadata": {
      "needs_background": "light"
     },
     "output_type": "display_data"
    }
   ],
   "source": [
    "sns.boxplot(y='alcohol',data=crash)"
   ]
  },
  {
   "cell_type": "code",
   "execution_count": 78,
   "metadata": {},
   "outputs": [
    {
     "data": {
      "text/plain": [
       "count    52.000000\n",
       "mean      5.573058\n",
       "std       5.246151\n",
       "min       1.593000\n",
       "25%       3.897000\n",
       "50%       4.629000\n",
       "75%       5.640500\n",
       "max      40.642000\n",
       "Name: alcohol, dtype: float64"
      ]
     },
     "execution_count": 78,
     "metadata": {},
     "output_type": "execute_result"
    }
   ],
   "source": [
    "crash.alcohol.describe()"
   ]
  },
  {
   "cell_type": "code",
   "execution_count": 79,
   "metadata": {},
   "outputs": [
    {
     "data": {
      "text/plain": [
       "<AxesSubplot:xlabel='accidents', ylabel='alcohol'>"
      ]
     },
     "execution_count": 79,
     "metadata": {},
     "output_type": "execute_result"
    },
    {
     "data": {
      "image/png": "[encoded data removed]",
      "text/plain": [
       "<Figure size 432x288 with 1 Axes>"
      ]
     },
     "metadata": {
      "needs_background": "light"
     },
     "output_type": "display_data"
    }
   ],
   "source": [
    "## LETS RMEMOVE THIS 40.642000 thats probably was inputted incorrectly\n",
    "## Humans usually die around a BAC of .40 probably should've been inputted as .40 but got inputted as 40.6\n",
    "\n",
    "crash = crash[ crash['alcohol']<=15]\n",
    "sns.scatterplot(x='accidents', y='alcohol', data=crash)"
   ]
  },
  {
   "cell_type": "code",
   "execution_count": 55,
   "metadata": {},
   "outputs": [
    {
     "data": {
      "text/plain": [
       "<AxesSubplot:ylabel='ins_premium'>"
      ]
     },
     "execution_count": 55,
     "metadata": {},
     "output_type": "execute_result"
    },
    {
     "data": {
      "image/png": "[encoded data removed]",
      "text/plain": [
       "<Figure size 432x288 with 1 Axes>"
      ]
     },
     "metadata": {
      "needs_background": "light"
     },
     "output_type": "display_data"
    }
   ],
   "source": [
    "sns.boxplot(y='ins_premium',data=crash)"
   ]
  },
  {
   "cell_type": "code",
   "execution_count": 62,
   "metadata": {},
   "outputs": [
    {
     "data": {
      "text/plain": [
       "<AxesSubplot:xlabel='ins_premium'>"
      ]
     },
     "execution_count": 62,
     "metadata": {},
     "output_type": "execute_result"
    },
    {
     "data": {
      "image/png": "[encoded data removed]",
      "text/plain": [
       "<Figure size 432x288 with 1 Axes>"
      ]
     },
     "metadata": {
      "needs_background": "light"
     },
     "output_type": "display_data"
    }
   ],
   "source": [
    "sns.boxplot(x=crash['ins_premium'])"
   ]
  },
  {
   "cell_type": "code",
   "execution_count": 80,
   "metadata": {},
   "outputs": [
    {
     "data": {
      "text/plain": [
       "count      51.000000\n",
       "mean      901.971765\n",
       "std       232.217917\n",
       "min       641.960000\n",
       "25%       768.430000\n",
       "50%       858.970000\n",
       "75%      1007.945000\n",
       "max      2000.030000\n",
       "Name: ins_premium, dtype: float64"
      ]
     },
     "execution_count": 80,
     "metadata": {},
     "output_type": "execute_result"
    }
   ],
   "source": [
    "##LETS Also remove this outlier, $2000 against acccidents should be a lot higher \n",
    "## How is this person paying $2000, and has yet to be 11 accidents\n",
    "## could be because they are a young driver, and they have been in those 11 accidents \n",
    "## On the safe side of things I will not remove this outlier \n",
    "crash.ins_premium.describe()"
   ]
  },
  {
   "cell_type": "code",
   "execution_count": 98,
   "metadata": {},
   "outputs": [
    {
     "data": {
      "text/html": [
       "<div>\n",
       "<style scoped>\n",
       "    .dataframe tbody tr th:only-of-type {\n",
       "        vertical-align: middle;\n",
       "    }\n",
       "\n",
       "    .dataframe tbody tr th {\n",
       "        vertical-align: top;\n",
       "    }\n",
       "\n",
       "    .dataframe thead th {\n",
       "        text-align: right;\n",
       "    }\n",
       "</style>\n",
       "<table border=\"1\" class=\"dataframe\">\n",
       "  <thead>\n",
       "    <tr style=\"text-align: right;\">\n",
       "      <th></th>\n",
       "      <th>accidents</th>\n",
       "      <th>speeding</th>\n",
       "      <th>alcohol</th>\n",
       "      <th>not_distracted</th>\n",
       "      <th>no_previous</th>\n",
       "      <th>ins_premium</th>\n",
       "      <th>ins_losses</th>\n",
       "      <th>state</th>\n",
       "      <th>region</th>\n",
       "      <th>division</th>\n",
       "    </tr>\n",
       "  </thead>\n",
       "  <tbody>\n",
       "    <tr>\n",
       "      <th>36</th>\n",
       "      <td>10.6</td>\n",
       "      <td>4.452</td>\n",
       "      <td>3.498</td>\n",
       "      <td>8.692</td>\n",
       "      <td>9.116</td>\n",
       "      <td>2000.03</td>\n",
       "      <td>111.62</td>\n",
       "      <td>WA</td>\n",
       "      <td>West</td>\n",
       "      <td>Pacific</td>\n",
       "    </tr>\n",
       "  </tbody>\n",
       "</table>\n",
       "</div>"
      ],
      "text/plain": [
       "    accidents  speeding  alcohol  not_distracted  no_previous  ins_premium  \\\n",
       "36       10.6     4.452    3.498           8.692        9.116      2000.03   \n",
       "\n",
       "    ins_losses state region division  \n",
       "36      111.62    WA   West  Pacific  "
      ]
     },
     "execution_count": 98,
     "metadata": {},
     "output_type": "execute_result"
    }
   ],
   "source": [
    "## Lets pull that ins_premium with that max value to see the rest of the data for that entry\n",
    "outlier_possibility= crash[ crash['ins_premium'] > 1500]\n",
    "outlier_possibility\n",
    "\n",
    "## this is looking like more of an outlier while the accidents are high, the rest of his values seem\n",
    "## fairly in line with the median which makes me wonder why it is so high \n",
    "## lets remove it "
   ]
  },
  {
   "cell_type": "code",
   "execution_count": 101,
   "metadata": {},
   "outputs": [
    {
     "data": {
      "text/plain": [
       "<AxesSubplot:ylabel='ins_premium'>"
      ]
     },
     "execution_count": 101,
     "metadata": {},
     "output_type": "execute_result"
    },
    {
     "data": {
      "image/png": "[encoded data removed]",
      "text/plain": [
       "<Figure size 432x288 with 1 Axes>"
      ]
     },
     "metadata": {
      "needs_background": "light"
     },
     "output_type": "display_data"
    }
   ],
   "source": [
    "condition1 = 1500.00\n",
    "## removal \n",
    "## DF = DF [ DF ['col_name'] < condition]\n",
    "crash = crash[ crash ['ins_premium'] <= condition1] \n",
    "sns.boxplot(y=crash['ins_premium'])"
   ]
  },
  {
   "cell_type": "code",
   "execution_count": 60,
   "metadata": {},
   "outputs": [
    {
     "data": {
      "text/plain": [
       "<AxesSubplot:xlabel='ins_losses'>"
      ]
     },
     "execution_count": 60,
     "metadata": {},
     "output_type": "execute_result"
    },
    {
     "data": {
      "image/png": "[encoded data removed]",
      "text/plain": [
       "<Figure size 432x288 with 1 Axes>"
      ]
     },
     "metadata": {
      "needs_background": "light"
     },
     "output_type": "display_data"
    }
   ],
   "source": [
    "sns.boxplot(x=crash['ins_losses'])"
   ]
  },
  {
   "cell_type": "code",
   "execution_count": 77,
   "metadata": {},
   "outputs": [
    {
     "data": {
      "text/plain": [
       "<AxesSubplot:ylabel='ins_losses'>"
      ]
     },
     "execution_count": 77,
     "metadata": {},
     "output_type": "execute_result"
    },
    {
     "data": {
      "image/png": "[encoded data removed]",
      "text/plain": [
       "<Figure size 432x288 with 1 Axes>"
      ]
     },
     "metadata": {
      "needs_background": "light"
     },
     "output_type": "display_data"
    }
   ],
   "source": [
    "sns.boxplot(data=crash, y='ins_losses')"
   ]
  },
  {
   "cell_type": "code",
   "execution_count": 61,
   "metadata": {},
   "outputs": [
    {
     "data": {
      "text/plain": [
       "<AxesSubplot:xlabel='speeding'>"
      ]
     },
     "execution_count": 61,
     "metadata": {},
     "output_type": "execute_result"
    },
    {
     "data": {
      "image/png": "[encoded data removed]",
      "text/plain": [
       "<Figure size 432x288 with 1 Axes>"
      ]
     },
     "metadata": {
      "needs_background": "light"
     },
     "output_type": "display_data"
    }
   ],
   "source": [
    "sns.boxplot(x=crash['speeding'])"
   ]
  },
  {
   "cell_type": "code",
   "execution_count": 64,
   "metadata": {},
   "outputs": [
    {
     "data": {
      "text/plain": [
       "<AxesSubplot:ylabel='speeding'>"
      ]
     },
     "execution_count": 64,
     "metadata": {},
     "output_type": "execute_result"
    },
    {
     "data": {
      "image/png": "[encoded data removed]",
      "text/plain": [
       "<Figure size 432x288 with 1 Axes>"
      ]
     },
     "metadata": {
      "needs_background": "light"
     },
     "output_type": "display_data"
    }
   ],
   "source": [
    "sns.boxplot(y='speeding',data=crash)"
   ]
  },
  {
   "cell_type": "markdown",
   "metadata": {},
   "source": [
    "## Question 5. Calculate the average speeding in usa and Northeast region using SQL"
   ]
  },
  {
   "cell_type": "code",
   "execution_count": 110,
   "metadata": {},
   "outputs": [],
   "source": [
    "try:\n",
    "    import pandasql as ps\n",
    "except:\n",
    "    os.system(\"pip install pandasql\")"
   ]
  },
  {
   "cell_type": "code",
   "execution_count": 117,
   "metadata": {},
   "outputs": [
    {
     "data": {
      "text/html": [
       "<div>\n",
       "<style scoped>\n",
       "    .dataframe tbody tr th:only-of-type {\n",
       "        vertical-align: middle;\n",
       "    }\n",
       "\n",
       "    .dataframe tbody tr th {\n",
       "        vertical-align: top;\n",
       "    }\n",
       "\n",
       "    .dataframe thead th {\n",
       "        text-align: right;\n",
       "    }\n",
       "</style>\n",
       "<table border=\"1\" class=\"dataframe\">\n",
       "  <thead>\n",
       "    <tr style=\"text-align: right;\">\n",
       "      <th></th>\n",
       "      <th>average_speed</th>\n",
       "    </tr>\n",
       "  </thead>\n",
       "  <tbody>\n",
       "    <tr>\n",
       "      <th>0</th>\n",
       "      <td>4.42475</td>\n",
       "    </tr>\n",
       "  </tbody>\n",
       "</table>\n",
       "</div>"
      ],
      "text/plain": [
       "   average_speed\n",
       "0        4.42475"
      ]
     },
     "execution_count": 117,
     "metadata": {},
     "output_type": "execute_result"
    }
   ],
   "source": [
    "sql = \"select avg(speeding) as average_speed from crash where region='Northeast' and state!='territory'\"\n",
    "average_speed = ps.sqldf(sql)\n",
    "average_speed"
   ]
  },
  {
   "cell_type": "markdown",
   "metadata": {},
   "source": [
    "## Question 6. Calculate the average alcohol for each region using SQL"
   ]
  },
  {
   "cell_type": "code",
   "execution_count": 118,
   "metadata": {},
   "outputs": [
    {
     "data": {
      "text/html": [
       "<div>\n",
       "<style scoped>\n",
       "    .dataframe tbody tr th:only-of-type {\n",
       "        vertical-align: middle;\n",
       "    }\n",
       "\n",
       "    .dataframe tbody tr th {\n",
       "        vertical-align: top;\n",
       "    }\n",
       "\n",
       "    .dataframe thead th {\n",
       "        text-align: right;\n",
       "    }\n",
       "</style>\n",
       "<table border=\"1\" class=\"dataframe\">\n",
       "  <thead>\n",
       "    <tr style=\"text-align: right;\">\n",
       "      <th></th>\n",
       "      <th>average_alcohol</th>\n",
       "    </tr>\n",
       "  </thead>\n",
       "  <tbody>\n",
       "    <tr>\n",
       "      <th>0</th>\n",
       "      <td>4.996917</td>\n",
       "    </tr>\n",
       "    <tr>\n",
       "      <th>1</th>\n",
       "      <td>3.980500</td>\n",
       "    </tr>\n",
       "    <tr>\n",
       "      <th>2</th>\n",
       "      <td>5.414647</td>\n",
       "    </tr>\n",
       "    <tr>\n",
       "      <th>3</th>\n",
       "      <td>4.754077</td>\n",
       "    </tr>\n",
       "  </tbody>\n",
       "</table>\n",
       "</div>"
      ],
      "text/plain": [
       "   average_alcohol\n",
       "0         4.996917\n",
       "1         3.980500\n",
       "2         5.414647\n",
       "3         4.754077"
      ]
     },
     "execution_count": 118,
     "metadata": {},
     "output_type": "execute_result"
    }
   ],
   "source": [
    "sql1 = \"select avg(alcohol) as average_alcohol from crash group by region\"\n",
    "average_alcohol = ps.sqldf(sql1)\n",
    "average_alcohol"
   ]
  },
  {
   "cell_type": "markdown",
   "metadata": {},
   "source": [
    "## Question 7. Calculate the number of occurrences, mean, min, max of the speeding for each divison using SQL"
   ]
  },
  {
   "cell_type": "code",
   "execution_count": 121,
   "metadata": {},
   "outputs": [
    {
     "data": {
      "text/html": [
       "<div>\n",
       "<style scoped>\n",
       "    .dataframe tbody tr th:only-of-type {\n",
       "        vertical-align: middle;\n",
       "    }\n",
       "\n",
       "    .dataframe tbody tr th {\n",
       "        vertical-align: top;\n",
       "    }\n",
       "\n",
       "    .dataframe thead th {\n",
       "        text-align: right;\n",
       "    }\n",
       "</style>\n",
       "<table border=\"1\" class=\"dataframe\">\n",
       "  <thead>\n",
       "    <tr style=\"text-align: right;\">\n",
       "      <th></th>\n",
       "      <th>speeding_occurences</th>\n",
       "      <th>average_speed</th>\n",
       "      <th>min_speed</th>\n",
       "      <th>max_speed</th>\n",
       "    </tr>\n",
       "  </thead>\n",
       "  <tbody>\n",
       "    <tr>\n",
       "      <th>0</th>\n",
       "      <td>50</td>\n",
       "      <td>5.01944</td>\n",
       "      <td>1.792</td>\n",
       "      <td>9.45</td>\n",
       "    </tr>\n",
       "  </tbody>\n",
       "</table>\n",
       "</div>"
      ],
      "text/plain": [
       "   speeding_occurences  average_speed  min_speed  max_speed\n",
       "0                   50        5.01944      1.792       9.45"
      ]
     },
     "execution_count": 121,
     "metadata": {},
     "output_type": "execute_result"
    }
   ],
   "source": [
    "sql2 = \"select count(speeding) as speeding_occurences, avg(speeding) as average_speed, min(speeding) as min_speed, max(speeding) as max_speed from crash\"\n",
    "speeding_description = ps.sqldf(sql2)\n",
    "speeding_description"
   ]
  },
  {
   "cell_type": "markdown",
   "metadata": {},
   "source": [
    "## Question 8. Answer Question 7 but use Pandas functions"
   ]
  },
  {
   "cell_type": "code",
   "execution_count": 159,
   "metadata": {},
   "outputs": [
    {
     "name": "stdout",
     "output_type": "stream",
     "text": [
      "Count:50\n",
      "Average_Speed:5.0194\n",
      "Min_Speed:1.792\n",
      "Max_Speed:9.45\n"
     ]
    }
   ],
   "source": [
    "print('Count:{}\\nAverage_Speed:{}\\nMin_Speed:{}\\nMax_Speed:{}'.format(round(crash.speeding.count(),4), round(crash.speeding.mean(),4), round(crash.speeding.min(),4),round(crash.speeding.max(),4)))"
   ]
  },
  {
   "cell_type": "markdown",
   "metadata": {},
   "source": [
    "## Question 9. Calculate the Standard deviation, Skew and Kurtosis for the accidents, speeding, alcohol for each region"
   ]
  },
  {
   "cell_type": "code",
   "execution_count": 165,
   "metadata": {},
   "outputs": [
    {
     "name": "stdout",
     "output_type": "stream",
     "text": [
      "SD:region\n",
      "Midwest      1.824432\n",
      "Northeast    0.872950\n",
      "South        1.773576\n",
      "West         1.910356\n",
      "Name: alcohol, dtype: float64\n",
      "\n",
      "SKEW:region\n",
      "Midwest      2.093467\n",
      "Northeast    0.764250\n",
      "South        0.330988\n",
      "West         1.159752\n",
      "Name: alcohol, dtype: float64\n",
      "\n",
      "KURT:region\n",
      "Midwest      5.597372\n",
      "Northeast    0.890501\n",
      "South        2.125568\n",
      "West         2.219220\n",
      "Name: alcohol, dtype: float64\n"
     ]
    }
   ],
   "source": [
    "alcohol_df = crash.groupby('region')['alcohol'].describe()\n",
    "alcohol_sd = crash.groupby('region')['alcohol'].std()\n",
    "alcohol_skew = crash.groupby('region')['alcohol'].skew()\n",
    "alcohol_kurt = crash.groupby('region')['alcohol'].apply(pd.DataFrame.kurtosis)\n",
    "print(f'SD:{alcohol_sd}\\n\\nSKEW:{alcohol_skew}\\n\\nKURT:{alcohol_kurt}')"
   ]
  },
  {
   "cell_type": "code",
   "execution_count": 167,
   "metadata": {},
   "outputs": [
    {
     "name": "stdout",
     "output_type": "stream",
     "text": [
      "SD:region\n",
      "Midwest      1.537451\n",
      "Northeast    2.327773\n",
      "South        2.220711\n",
      "West         1.803138\n",
      "Name: speeding, dtype: float64\n",
      "\n",
      "SKEW:region\n",
      "Midwest      0.121197\n",
      "Northeast    1.051666\n",
      "South        0.172035\n",
      "West         0.697441\n",
      "Name: speeding, dtype: float64\n",
      "\n",
      "KURT:region\n",
      "Midwest     -0.737061\n",
      "Northeast    1.763520\n",
      "South       -1.327699\n",
      "West        -0.465455\n",
      "Name: speeding, dtype: float64\n"
     ]
    }
   ],
   "source": [
    "speeding_df = crash.groupby('region')['speeding'].describe()\n",
    "speeding_sd = crash.groupby('region')['speeding'].std()\n",
    "speeding_skew = crash.groupby('region')['speeding'].skew()\n",
    "speeding_kurt = crash.groupby('region')['speeding'].apply(pd.DataFrame.kurtosis)\n",
    "print(f'SD:{speeding_sd}\\n\\nSKEW:{speeding_skew}\\n\\nKURT:{speeding_kurt}')"
   ]
  },
  {
   "cell_type": "code",
   "execution_count": 168,
   "metadata": {},
   "outputs": [
    {
     "name": "stdout",
     "output_type": "stream",
     "text": [
      "SD:region\n",
      "Midwest      3.588988\n",
      "Northeast    3.077453\n",
      "South        4.537037\n",
      "West         3.325118\n",
      "Name: accidents, dtype: float64\n",
      "\n",
      "SKEW:region\n",
      "Midwest      0.950845\n",
      "Northeast    0.777587\n",
      "South       -1.125839\n",
      "West         0.064819\n",
      "Name: accidents, dtype: float64\n",
      "\n",
      "KURT:region\n",
      "Midwest      2.067092\n",
      "Northeast    0.726713\n",
      "South        1.860064\n",
      "West        -1.048692\n",
      "Name: accidents, dtype: float64\n"
     ]
    }
   ],
   "source": [
    "accidents_df = crash.groupby('region')['accidents'].describe()\n",
    "accidents_sd = crash.groupby('region')['accidents'].std()\n",
    "accidents_skew = crash.groupby('region')['accidents'].skew()\n",
    "accidents_kurt = crash.groupby('region')['accidents'].apply(pd.DataFrame.kurtosis)\n",
    "print(f'SD:{accidents_sd}\\n\\nSKEW:{accidents_skew}\\n\\nKURT:{accidents_kurt}')"
   ]
  },
  {
   "cell_type": "markdown",
   "metadata": {},
   "source": [
    "## Question 10. Plot the histogram of accidents distribution for different region using 5 bins"
   ]
  },
  {
   "cell_type": "code",
   "execution_count": 174,
   "metadata": {},
   "outputs": [
    {
     "data": {
      "text/plain": [
       "region\n",
       "Midwest      AxesSubplot(0.125,0.125;0.775x0.755)\n",
       "Northeast    AxesSubplot(0.125,0.125;0.775x0.755)\n",
       "South        AxesSubplot(0.125,0.125;0.775x0.755)\n",
       "West         AxesSubplot(0.125,0.125;0.775x0.755)\n",
       "Name: accidents, dtype: object"
      ]
     },
     "execution_count": 174,
     "metadata": {},
     "output_type": "execute_result"
    },
    {
     "data": {
      "image/png": "[encoded data removed]",
      "text/plain": [
       "<Figure size 432x288 with 1 Axes>"
      ]
     },
     "metadata": {
      "needs_background": "light"
     },
     "output_type": "display_data"
    }
   ],
   "source": [
    "variable_accidents_df=crash.groupby('region')['accidents']\n",
    "variable_accidents_df.hist(bins=5)"
   ]
  },
  {
   "cell_type": "code",
   "execution_count": 177,
   "metadata": {},
   "outputs": [
    {
     "data": {
      "image/png": "[encoded data removed]",
      "text/plain": [
       "<Figure size 720x720 with 4 Axes>"
      ]
     },
     "metadata": {
      "needs_background": "light"
     },
     "output_type": "display_data"
    }
   ],
   "source": [
    "model_accidents_by_region = crash['accidents'].hist(by=crash['region'],bins=5, figsize=(10,10))"
   ]
  },
  {
   "cell_type": "markdown",
   "metadata": {},
   "source": [
    "## Question 11. How would you describe the accidents distribution for different region based on the Skew and Kurotsis?\n",
    "(i.e. who has positive and negative skew and who has positive and negative Kurotsis)"
   ]
  },
  {
   "cell_type": "code",
   "execution_count": 197,
   "metadata": {},
   "outputs": [
    {
     "name": "stdout",
     "output_type": "stream",
     "text": [
      "MIDWEST_SKEW:0.9508451227862821\n",
      "\n",
      "NORTHEAST_SKEW:0.7775866065677681\n",
      "\n",
      "SOUTH_SKEW:-1.1258391946859427\n",
      "\n",
      "WEST_SKEW:0.06481850368199978\n",
      "\n",
      "\n",
      "\n",
      "MIDWEST_KURT:2.0670921690995625\n",
      "\n",
      "NORTHEAST_KURT:0.7267132014961879\n",
      "\n",
      "SOUTH_KURT:1.86006396644026\n",
      "\n",
      "WEST_KURT:-1.0486917245029392\n"
     ]
    }
   ],
   "source": [
    "list1= variable_accidents_df.apply(pd.DataFrame.kurtosis)\n",
    "list2= skew_accidents_by_region = variable_accidents_df.skew()\n",
    "list1_elements = []\n",
    "list2_elements = []\n",
    "\n",
    "for element in list1:\n",
    "    list1_elements.append(element)\n",
    "    \n",
    "for element in list2:\n",
    "    list2_elements.append(element)\n",
    "    \n",
    "print('MIDWEST_SKEW:{}\\n\\nNORTHEAST_SKEW:{}\\n\\nSOUTH_SKEW:{}\\n\\nWEST_SKEW:{}'.format(list2_elements[0],list2_elements[1],list2_elements[2],list2_elements[3]))    \n",
    "print('\\n\\n')\n",
    "print('MIDWEST_KURT:{}\\n\\nNORTHEAST_KURT:{}\\n\\nSOUTH_KURT:{}\\n\\nWEST_KURT:{}'.format(list1_elements[0],list1_elements[1],list1_elements[2],list1_elements[3]))"
   ]
  },
  {
   "cell_type": "markdown",
   "metadata": {},
   "source": [
    "## Question 12. Calculate correlation of all the factors among themselves and determine which factors among speeding, alcohol or ins_premium will affect accidents the most?"
   ]
  },
  {
   "cell_type": "code",
   "execution_count": 236,
   "metadata": {},
   "outputs": [
    {
     "data": {
      "text/html": [
       "<div>\n",
       "<style scoped>\n",
       "    .dataframe tbody tr th:only-of-type {\n",
       "        vertical-align: middle;\n",
       "    }\n",
       "\n",
       "    .dataframe tbody tr th {\n",
       "        vertical-align: top;\n",
       "    }\n",
       "\n",
       "    .dataframe thead th {\n",
       "        text-align: right;\n",
       "    }\n",
       "</style>\n",
       "<table border=\"1\" class=\"dataframe\">\n",
       "  <thead>\n",
       "    <tr style=\"text-align: right;\">\n",
       "      <th></th>\n",
       "      <th>speeding</th>\n",
       "    </tr>\n",
       "    <tr>\n",
       "      <th>accidents</th>\n",
       "      <th></th>\n",
       "    </tr>\n",
       "  </thead>\n",
       "  <tbody>\n",
       "    <tr>\n",
       "      <th>5.9</th>\n",
       "      <td>2.0060</td>\n",
       "    </tr>\n",
       "    <tr>\n",
       "      <th>8.2</th>\n",
       "      <td>1.8860</td>\n",
       "    </tr>\n",
       "    <tr>\n",
       "      <th>9.6</th>\n",
       "      <td>2.2080</td>\n",
       "    </tr>\n",
       "    <tr>\n",
       "      <th>10.6</th>\n",
       "      <td>4.4520</td>\n",
       "    </tr>\n",
       "    <tr>\n",
       "      <th>10.8</th>\n",
       "      <td>4.9680</td>\n",
       "    </tr>\n",
       "    <tr>\n",
       "      <th>11.1</th>\n",
       "      <td>3.7740</td>\n",
       "    </tr>\n",
       "    <tr>\n",
       "      <th>11.2</th>\n",
       "      <td>1.7920</td>\n",
       "    </tr>\n",
       "    <tr>\n",
       "      <th>11.3</th>\n",
       "      <td>4.8590</td>\n",
       "    </tr>\n",
       "    <tr>\n",
       "      <th>11.6</th>\n",
       "      <td>4.0600</td>\n",
       "    </tr>\n",
       "    <tr>\n",
       "      <th>12.0</th>\n",
       "      <td>4.2000</td>\n",
       "    </tr>\n",
       "    <tr>\n",
       "      <th>12.5</th>\n",
       "      <td>4.2500</td>\n",
       "    </tr>\n",
       "    <tr>\n",
       "      <th>12.7</th>\n",
       "      <td>2.4130</td>\n",
       "    </tr>\n",
       "    <tr>\n",
       "      <th>12.8</th>\n",
       "      <td>4.4160</td>\n",
       "    </tr>\n",
       "    <tr>\n",
       "      <th>13.6</th>\n",
       "      <td>4.5560</td>\n",
       "    </tr>\n",
       "    <tr>\n",
       "      <th>13.8</th>\n",
       "      <td>4.9680</td>\n",
       "    </tr>\n",
       "    <tr>\n",
       "      <th>14.1</th>\n",
       "      <td>3.6660</td>\n",
       "    </tr>\n",
       "    <tr>\n",
       "      <th>14.5</th>\n",
       "      <td>3.6250</td>\n",
       "    </tr>\n",
       "    <tr>\n",
       "      <th>14.7</th>\n",
       "      <td>5.4390</td>\n",
       "    </tr>\n",
       "    <tr>\n",
       "      <th>14.9</th>\n",
       "      <td>1.9370</td>\n",
       "    </tr>\n",
       "    <tr>\n",
       "      <th>15.1</th>\n",
       "      <td>5.7380</td>\n",
       "    </tr>\n",
       "    <tr>\n",
       "      <th>15.3</th>\n",
       "      <td>5.5080</td>\n",
       "    </tr>\n",
       "    <tr>\n",
       "      <th>15.6</th>\n",
       "      <td>2.9640</td>\n",
       "    </tr>\n",
       "    <tr>\n",
       "      <th>15.7</th>\n",
       "      <td>2.6690</td>\n",
       "    </tr>\n",
       "    <tr>\n",
       "      <th>16.1</th>\n",
       "      <td>6.9230</td>\n",
       "    </tr>\n",
       "    <tr>\n",
       "      <th>16.2</th>\n",
       "      <td>6.1560</td>\n",
       "    </tr>\n",
       "    <tr>\n",
       "      <th>16.8</th>\n",
       "      <td>6.5520</td>\n",
       "    </tr>\n",
       "    <tr>\n",
       "      <th>17.4</th>\n",
       "      <td>7.3080</td>\n",
       "    </tr>\n",
       "    <tr>\n",
       "      <th>17.5</th>\n",
       "      <td>9.4500</td>\n",
       "    </tr>\n",
       "    <tr>\n",
       "      <th>17.6</th>\n",
       "      <td>2.6400</td>\n",
       "    </tr>\n",
       "    <tr>\n",
       "      <th>17.8</th>\n",
       "      <td>4.8060</td>\n",
       "    </tr>\n",
       "    <tr>\n",
       "      <th>17.9</th>\n",
       "      <td>3.7590</td>\n",
       "    </tr>\n",
       "    <tr>\n",
       "      <th>18.1</th>\n",
       "      <td>7.4210</td>\n",
       "    </tr>\n",
       "    <tr>\n",
       "      <th>18.2</th>\n",
       "      <td>9.1000</td>\n",
       "    </tr>\n",
       "    <tr>\n",
       "      <th>18.4</th>\n",
       "      <td>3.4960</td>\n",
       "    </tr>\n",
       "    <tr>\n",
       "      <th>18.6</th>\n",
       "      <td>6.5100</td>\n",
       "    </tr>\n",
       "    <tr>\n",
       "      <th>18.8</th>\n",
       "      <td>7.3320</td>\n",
       "    </tr>\n",
       "    <tr>\n",
       "      <th>19.4</th>\n",
       "      <td>6.8870</td>\n",
       "    </tr>\n",
       "    <tr>\n",
       "      <th>19.5</th>\n",
       "      <td>4.0950</td>\n",
       "    </tr>\n",
       "    <tr>\n",
       "      <th>19.9</th>\n",
       "      <td>6.3680</td>\n",
       "    </tr>\n",
       "    <tr>\n",
       "      <th>20.5</th>\n",
       "      <td>7.1750</td>\n",
       "    </tr>\n",
       "    <tr>\n",
       "      <th>21.4</th>\n",
       "      <td>6.2060</td>\n",
       "    </tr>\n",
       "    <tr>\n",
       "      <th>22.4</th>\n",
       "      <td>4.0320</td>\n",
       "    </tr>\n",
       "    <tr>\n",
       "      <th>23.8</th>\n",
       "      <td>8.0920</td>\n",
       "    </tr>\n",
       "    <tr>\n",
       "      <th>23.9</th>\n",
       "      <td>7.2895</td>\n",
       "    </tr>\n",
       "  </tbody>\n",
       "</table>\n",
       "</div>"
      ],
      "text/plain": [
       "           speeding\n",
       "accidents          \n",
       "5.9          2.0060\n",
       "8.2          1.8860\n",
       "9.6          2.2080\n",
       "10.6         4.4520\n",
       "10.8         4.9680\n",
       "11.1         3.7740\n",
       "11.2         1.7920\n",
       "11.3         4.8590\n",
       "11.6         4.0600\n",
       "12.0         4.2000\n",
       "12.5         4.2500\n",
       "12.7         2.4130\n",
       "12.8         4.4160\n",
       "13.6         4.5560\n",
       "13.8         4.9680\n",
       "14.1         3.6660\n",
       "14.5         3.6250\n",
       "14.7         5.4390\n",
       "14.9         1.9370\n",
       "15.1         5.7380\n",
       "15.3         5.5080\n",
       "15.6         2.9640\n",
       "15.7         2.6690\n",
       "16.1         6.9230\n",
       "16.2         6.1560\n",
       "16.8         6.5520\n",
       "17.4         7.3080\n",
       "17.5         9.4500\n",
       "17.6         2.6400\n",
       "17.8         4.8060\n",
       "17.9         3.7590\n",
       "18.1         7.4210\n",
       "18.2         9.1000\n",
       "18.4         3.4960\n",
       "18.6         6.5100\n",
       "18.8         7.3320\n",
       "19.4         6.8870\n",
       "19.5         4.0950\n",
       "19.9         6.3680\n",
       "20.5         7.1750\n",
       "21.4         6.2060\n",
       "22.4         4.0320\n",
       "23.8         8.0920\n",
       "23.9         7.2895"
      ]
     },
     "execution_count": 236,
     "metadata": {},
     "output_type": "execute_result"
    }
   ],
   "source": [
    "selected_feature_1 = ['speeding']\n",
    "selected_feature_2 = ['alcohol']\n",
    "selected_feature_3 = ['ins_premium']\n",
    "crash.groupby(['accidents'])[selected_feature_1].mean()"
   ]
  },
  {
   "cell_type": "code",
   "execution_count": 237,
   "metadata": {},
   "outputs": [
    {
     "data": {
      "text/html": [
       "<div>\n",
       "<style scoped>\n",
       "    .dataframe tbody tr th:only-of-type {\n",
       "        vertical-align: middle;\n",
       "    }\n",
       "\n",
       "    .dataframe tbody tr th {\n",
       "        vertical-align: top;\n",
       "    }\n",
       "\n",
       "    .dataframe thead th {\n",
       "        text-align: right;\n",
       "    }\n",
       "</style>\n",
       "<table border=\"1\" class=\"dataframe\">\n",
       "  <thead>\n",
       "    <tr style=\"text-align: right;\">\n",
       "      <th></th>\n",
       "      <th>alcohol</th>\n",
       "    </tr>\n",
       "    <tr>\n",
       "      <th>accidents</th>\n",
       "      <th></th>\n",
       "    </tr>\n",
       "  </thead>\n",
       "  <tbody>\n",
       "    <tr>\n",
       "      <th>5.9</th>\n",
       "      <td>1.5930</td>\n",
       "    </tr>\n",
       "    <tr>\n",
       "      <th>8.2</th>\n",
       "      <td>2.8700</td>\n",
       "    </tr>\n",
       "    <tr>\n",
       "      <th>9.6</th>\n",
       "      <td>2.7840</td>\n",
       "    </tr>\n",
       "    <tr>\n",
       "      <th>10.6</th>\n",
       "      <td>3.4980</td>\n",
       "    </tr>\n",
       "    <tr>\n",
       "      <th>10.8</th>\n",
       "      <td>3.8880</td>\n",
       "    </tr>\n",
       "    <tr>\n",
       "      <th>11.1</th>\n",
       "      <td>4.2180</td>\n",
       "    </tr>\n",
       "    <tr>\n",
       "      <th>11.2</th>\n",
       "      <td>3.1360</td>\n",
       "    </tr>\n",
       "    <tr>\n",
       "      <th>11.3</th>\n",
       "      <td>1.8080</td>\n",
       "    </tr>\n",
       "    <tr>\n",
       "      <th>11.6</th>\n",
       "      <td>3.4800</td>\n",
       "    </tr>\n",
       "    <tr>\n",
       "      <th>12.0</th>\n",
       "      <td>3.3600</td>\n",
       "    </tr>\n",
       "    <tr>\n",
       "      <th>12.5</th>\n",
       "      <td>4.0000</td>\n",
       "    </tr>\n",
       "    <tr>\n",
       "      <th>12.7</th>\n",
       "      <td>3.4290</td>\n",
       "    </tr>\n",
       "    <tr>\n",
       "      <th>12.8</th>\n",
       "      <td>3.8400</td>\n",
       "    </tr>\n",
       "    <tr>\n",
       "      <th>13.6</th>\n",
       "      <td>3.9440</td>\n",
       "    </tr>\n",
       "    <tr>\n",
       "      <th>13.8</th>\n",
       "      <td>4.5540</td>\n",
       "    </tr>\n",
       "    <tr>\n",
       "      <th>14.1</th>\n",
       "      <td>4.3710</td>\n",
       "    </tr>\n",
       "    <tr>\n",
       "      <th>14.5</th>\n",
       "      <td>4.2050</td>\n",
       "    </tr>\n",
       "    <tr>\n",
       "      <th>14.7</th>\n",
       "      <td>4.7040</td>\n",
       "    </tr>\n",
       "    <tr>\n",
       "      <th>14.9</th>\n",
       "      <td>5.2150</td>\n",
       "    </tr>\n",
       "    <tr>\n",
       "      <th>15.1</th>\n",
       "      <td>4.5300</td>\n",
       "    </tr>\n",
       "    <tr>\n",
       "      <th>15.3</th>\n",
       "      <td>4.4370</td>\n",
       "    </tr>\n",
       "    <tr>\n",
       "      <th>15.6</th>\n",
       "      <td>3.9000</td>\n",
       "    </tr>\n",
       "    <tr>\n",
       "      <th>15.7</th>\n",
       "      <td>3.9250</td>\n",
       "    </tr>\n",
       "    <tr>\n",
       "      <th>16.1</th>\n",
       "      <td>5.4740</td>\n",
       "    </tr>\n",
       "    <tr>\n",
       "      <th>16.2</th>\n",
       "      <td>4.8600</td>\n",
       "    </tr>\n",
       "    <tr>\n",
       "      <th>16.8</th>\n",
       "      <td>5.2080</td>\n",
       "    </tr>\n",
       "    <tr>\n",
       "      <th>17.4</th>\n",
       "      <td>5.5680</td>\n",
       "    </tr>\n",
       "    <tr>\n",
       "      <th>17.5</th>\n",
       "      <td>7.1750</td>\n",
       "    </tr>\n",
       "    <tr>\n",
       "      <th>17.6</th>\n",
       "      <td>5.4560</td>\n",
       "    </tr>\n",
       "    <tr>\n",
       "      <th>17.8</th>\n",
       "      <td>4.2720</td>\n",
       "    </tr>\n",
       "    <tr>\n",
       "      <th>17.9</th>\n",
       "      <td>5.1910</td>\n",
       "    </tr>\n",
       "    <tr>\n",
       "      <th>18.1</th>\n",
       "      <td>4.5250</td>\n",
       "    </tr>\n",
       "    <tr>\n",
       "      <th>18.2</th>\n",
       "      <td>5.6420</td>\n",
       "    </tr>\n",
       "    <tr>\n",
       "      <th>18.4</th>\n",
       "      <td>4.9680</td>\n",
       "    </tr>\n",
       "    <tr>\n",
       "      <th>18.6</th>\n",
       "      <td>5.2080</td>\n",
       "    </tr>\n",
       "    <tr>\n",
       "      <th>18.8</th>\n",
       "      <td>5.6400</td>\n",
       "    </tr>\n",
       "    <tr>\n",
       "      <th>19.4</th>\n",
       "      <td>6.8870</td>\n",
       "    </tr>\n",
       "    <tr>\n",
       "      <th>19.5</th>\n",
       "      <td>5.6550</td>\n",
       "    </tr>\n",
       "    <tr>\n",
       "      <th>19.9</th>\n",
       "      <td>5.7710</td>\n",
       "    </tr>\n",
       "    <tr>\n",
       "      <th>20.5</th>\n",
       "      <td>6.7650</td>\n",
       "    </tr>\n",
       "    <tr>\n",
       "      <th>21.4</th>\n",
       "      <td>7.1690</td>\n",
       "    </tr>\n",
       "    <tr>\n",
       "      <th>22.4</th>\n",
       "      <td>5.8240</td>\n",
       "    </tr>\n",
       "    <tr>\n",
       "      <th>23.8</th>\n",
       "      <td>6.6640</td>\n",
       "    </tr>\n",
       "    <tr>\n",
       "      <th>23.9</th>\n",
       "      <td>9.9185</td>\n",
       "    </tr>\n",
       "  </tbody>\n",
       "</table>\n",
       "</div>"
      ],
      "text/plain": [
       "           alcohol\n",
       "accidents         \n",
       "5.9         1.5930\n",
       "8.2         2.8700\n",
       "9.6         2.7840\n",
       "10.6        3.4980\n",
       "10.8        3.8880\n",
       "11.1        4.2180\n",
       "11.2        3.1360\n",
       "11.3        1.8080\n",
       "11.6        3.4800\n",
       "12.0        3.3600\n",
       "12.5        4.0000\n",
       "12.7        3.4290\n",
       "12.8        3.8400\n",
       "13.6        3.9440\n",
       "13.8        4.5540\n",
       "14.1        4.3710\n",
       "14.5        4.2050\n",
       "14.7        4.7040\n",
       "14.9        5.2150\n",
       "15.1        4.5300\n",
       "15.3        4.4370\n",
       "15.6        3.9000\n",
       "15.7        3.9250\n",
       "16.1        5.4740\n",
       "16.2        4.8600\n",
       "16.8        5.2080\n",
       "17.4        5.5680\n",
       "17.5        7.1750\n",
       "17.6        5.4560\n",
       "17.8        4.2720\n",
       "17.9        5.1910\n",
       "18.1        4.5250\n",
       "18.2        5.6420\n",
       "18.4        4.9680\n",
       "18.6        5.2080\n",
       "18.8        5.6400\n",
       "19.4        6.8870\n",
       "19.5        5.6550\n",
       "19.9        5.7710\n",
       "20.5        6.7650\n",
       "21.4        7.1690\n",
       "22.4        5.8240\n",
       "23.8        6.6640\n",
       "23.9        9.9185"
      ]
     },
     "execution_count": 237,
     "metadata": {},
     "output_type": "execute_result"
    }
   ],
   "source": [
    "crash.groupby(['accidents'])[selected_feature_2].mean()\n"
   ]
  },
  {
   "cell_type": "code",
   "execution_count": 238,
   "metadata": {},
   "outputs": [
    {
     "data": {
      "text/html": [
       "<div>\n",
       "<style scoped>\n",
       "    .dataframe tbody tr th:only-of-type {\n",
       "        vertical-align: middle;\n",
       "    }\n",
       "\n",
       "    .dataframe tbody tr th {\n",
       "        vertical-align: top;\n",
       "    }\n",
       "\n",
       "    .dataframe thead th {\n",
       "        text-align: right;\n",
       "    }\n",
       "</style>\n",
       "<table border=\"1\" class=\"dataframe\">\n",
       "  <thead>\n",
       "    <tr style=\"text-align: right;\">\n",
       "      <th></th>\n",
       "      <th>ins_premium</th>\n",
       "    </tr>\n",
       "    <tr>\n",
       "      <th>accidents</th>\n",
       "      <th></th>\n",
       "    </tr>\n",
       "  </thead>\n",
       "  <tbody>\n",
       "    <tr>\n",
       "      <th>5.9</th>\n",
       "      <td>1273.89</td>\n",
       "    </tr>\n",
       "    <tr>\n",
       "      <th>8.2</th>\n",
       "      <td>1011.14</td>\n",
       "    </tr>\n",
       "    <tr>\n",
       "      <th>9.6</th>\n",
       "      <td>777.18</td>\n",
       "    </tr>\n",
       "    <tr>\n",
       "      <th>10.6</th>\n",
       "      <td>890.03</td>\n",
       "    </tr>\n",
       "    <tr>\n",
       "      <th>10.8</th>\n",
       "      <td>1068.73</td>\n",
       "    </tr>\n",
       "    <tr>\n",
       "      <th>11.1</th>\n",
       "      <td>1148.99</td>\n",
       "    </tr>\n",
       "    <tr>\n",
       "      <th>11.2</th>\n",
       "      <td>1301.52</td>\n",
       "    </tr>\n",
       "    <tr>\n",
       "      <th>11.3</th>\n",
       "      <td>809.38</td>\n",
       "    </tr>\n",
       "    <tr>\n",
       "      <th>11.6</th>\n",
       "      <td>746.54</td>\n",
       "    </tr>\n",
       "    <tr>\n",
       "      <th>12.0</th>\n",
       "      <td>878.41</td>\n",
       "    </tr>\n",
       "    <tr>\n",
       "      <th>12.5</th>\n",
       "      <td>1048.78</td>\n",
       "    </tr>\n",
       "    <tr>\n",
       "      <th>12.7</th>\n",
       "      <td>768.95</td>\n",
       "    </tr>\n",
       "    <tr>\n",
       "      <th>12.8</th>\n",
       "      <td>803.91</td>\n",
       "    </tr>\n",
       "    <tr>\n",
       "      <th>13.6</th>\n",
       "      <td>775.85</td>\n",
       "    </tr>\n",
       "    <tr>\n",
       "      <th>13.8</th>\n",
       "      <td>670.31</td>\n",
       "    </tr>\n",
       "    <tr>\n",
       "      <th>14.1</th>\n",
       "      <td>904.17</td>\n",
       "    </tr>\n",
       "    <tr>\n",
       "      <th>14.5</th>\n",
       "      <td>710.46</td>\n",
       "    </tr>\n",
       "    <tr>\n",
       "      <th>14.7</th>\n",
       "      <td>1029.87</td>\n",
       "    </tr>\n",
       "    <tr>\n",
       "      <th>14.9</th>\n",
       "      <td>732.28</td>\n",
       "    </tr>\n",
       "    <tr>\n",
       "      <th>15.1</th>\n",
       "      <td>661.88</td>\n",
       "    </tr>\n",
       "    <tr>\n",
       "      <th>15.3</th>\n",
       "      <td>641.96</td>\n",
       "    </tr>\n",
       "    <tr>\n",
       "      <th>15.6</th>\n",
       "      <td>913.15</td>\n",
       "    </tr>\n",
       "    <tr>\n",
       "      <th>15.7</th>\n",
       "      <td>649.06</td>\n",
       "    </tr>\n",
       "    <tr>\n",
       "      <th>16.1</th>\n",
       "      <td>790.32</td>\n",
       "    </tr>\n",
       "    <tr>\n",
       "      <th>16.2</th>\n",
       "      <td>1137.87</td>\n",
       "    </tr>\n",
       "    <tr>\n",
       "      <th>16.8</th>\n",
       "      <td>708.24</td>\n",
       "    </tr>\n",
       "    <tr>\n",
       "      <th>17.4</th>\n",
       "      <td>791.14</td>\n",
       "    </tr>\n",
       "    <tr>\n",
       "      <th>17.5</th>\n",
       "      <td>861.18</td>\n",
       "    </tr>\n",
       "    <tr>\n",
       "      <th>17.6</th>\n",
       "      <td>896.07</td>\n",
       "    </tr>\n",
       "    <tr>\n",
       "      <th>17.8</th>\n",
       "      <td>780.45</td>\n",
       "    </tr>\n",
       "    <tr>\n",
       "      <th>17.9</th>\n",
       "      <td>1160.13</td>\n",
       "    </tr>\n",
       "    <tr>\n",
       "      <th>18.1</th>\n",
       "      <td>1053.48</td>\n",
       "    </tr>\n",
       "    <tr>\n",
       "      <th>18.2</th>\n",
       "      <td>905.99</td>\n",
       "    </tr>\n",
       "    <tr>\n",
       "      <th>18.4</th>\n",
       "      <td>869.85</td>\n",
       "    </tr>\n",
       "    <tr>\n",
       "      <th>18.6</th>\n",
       "      <td>899.47</td>\n",
       "    </tr>\n",
       "    <tr>\n",
       "      <th>18.8</th>\n",
       "      <td>784.55</td>\n",
       "    </tr>\n",
       "    <tr>\n",
       "      <th>19.4</th>\n",
       "      <td>837.03</td>\n",
       "    </tr>\n",
       "    <tr>\n",
       "      <th>19.5</th>\n",
       "      <td>767.91</td>\n",
       "    </tr>\n",
       "    <tr>\n",
       "      <th>19.9</th>\n",
       "      <td>881.51</td>\n",
       "    </tr>\n",
       "    <tr>\n",
       "      <th>20.5</th>\n",
       "      <td>1281.55</td>\n",
       "    </tr>\n",
       "    <tr>\n",
       "      <th>21.4</th>\n",
       "      <td>844.36</td>\n",
       "    </tr>\n",
       "    <tr>\n",
       "      <th>22.4</th>\n",
       "      <td>827.34</td>\n",
       "    </tr>\n",
       "    <tr>\n",
       "      <th>23.8</th>\n",
       "      <td>992.61</td>\n",
       "    </tr>\n",
       "    <tr>\n",
       "      <th>23.9</th>\n",
       "      <td>773.86</td>\n",
       "    </tr>\n",
       "  </tbody>\n",
       "</table>\n",
       "</div>"
      ],
      "text/plain": [
       "           ins_premium\n",
       "accidents             \n",
       "5.9            1273.89\n",
       "8.2            1011.14\n",
       "9.6             777.18\n",
       "10.6            890.03\n",
       "10.8           1068.73\n",
       "11.1           1148.99\n",
       "11.2           1301.52\n",
       "11.3            809.38\n",
       "11.6            746.54\n",
       "12.0            878.41\n",
       "12.5           1048.78\n",
       "12.7            768.95\n",
       "12.8            803.91\n",
       "13.6            775.85\n",
       "13.8            670.31\n",
       "14.1            904.17\n",
       "14.5            710.46\n",
       "14.7           1029.87\n",
       "14.9            732.28\n",
       "15.1            661.88\n",
       "15.3            641.96\n",
       "15.6            913.15\n",
       "15.7            649.06\n",
       "16.1            790.32\n",
       "16.2           1137.87\n",
       "16.8            708.24\n",
       "17.4            791.14\n",
       "17.5            861.18\n",
       "17.6            896.07\n",
       "17.8            780.45\n",
       "17.9           1160.13\n",
       "18.1           1053.48\n",
       "18.2            905.99\n",
       "18.4            869.85\n",
       "18.6            899.47\n",
       "18.8            784.55\n",
       "19.4            837.03\n",
       "19.5            767.91\n",
       "19.9            881.51\n",
       "20.5           1281.55\n",
       "21.4            844.36\n",
       "22.4            827.34\n",
       "23.8            992.61\n",
       "23.9            773.86"
      ]
     },
     "execution_count": 238,
     "metadata": {},
     "output_type": "execute_result"
    }
   ],
   "source": [
    "crash.groupby(['accidents'])[selected_feature_3].mean()"
   ]
  },
  {
   "cell_type": "code",
   "execution_count": 270,
   "metadata": {},
   "outputs": [],
   "source": [
    "crash.columns\n",
    "all_features_tested = ['alcohol','ins_premium','speeding','accidents']"
   ]
  },
  {
   "cell_type": "code",
   "execution_count": 271,
   "metadata": {},
   "outputs": [],
   "source": [
    "new_df = crash[all_features_tested]"
   ]
  },
  {
   "cell_type": "code",
   "execution_count": 272,
   "metadata": {},
   "outputs": [
    {
     "data": {
      "text/html": [
       "<div>\n",
       "<style scoped>\n",
       "    .dataframe tbody tr th:only-of-type {\n",
       "        vertical-align: middle;\n",
       "    }\n",
       "\n",
       "    .dataframe tbody tr th {\n",
       "        vertical-align: top;\n",
       "    }\n",
       "\n",
       "    .dataframe thead th {\n",
       "        text-align: right;\n",
       "    }\n",
       "</style>\n",
       "<table border=\"1\" class=\"dataframe\">\n",
       "  <thead>\n",
       "    <tr style=\"text-align: right;\">\n",
       "      <th></th>\n",
       "      <th>alcohol</th>\n",
       "      <th>ins_premium</th>\n",
       "      <th>speeding</th>\n",
       "      <th>accidents</th>\n",
       "    </tr>\n",
       "  </thead>\n",
       "  <tbody>\n",
       "    <tr>\n",
       "      <th>alcohol</th>\n",
       "      <td>1.000000</td>\n",
       "      <td>-0.146921</td>\n",
       "      <td>0.667377</td>\n",
       "      <td>0.850706</td>\n",
       "    </tr>\n",
       "    <tr>\n",
       "      <th>ins_premium</th>\n",
       "      <td>-0.146921</td>\n",
       "      <td>1.000000</td>\n",
       "      <td>-0.059254</td>\n",
       "      <td>-0.174157</td>\n",
       "    </tr>\n",
       "    <tr>\n",
       "      <th>speeding</th>\n",
       "      <td>0.667377</td>\n",
       "      <td>-0.059254</td>\n",
       "      <td>1.000000</td>\n",
       "      <td>0.608632</td>\n",
       "    </tr>\n",
       "    <tr>\n",
       "      <th>accidents</th>\n",
       "      <td>0.850706</td>\n",
       "      <td>-0.174157</td>\n",
       "      <td>0.608632</td>\n",
       "      <td>1.000000</td>\n",
       "    </tr>\n",
       "  </tbody>\n",
       "</table>\n",
       "</div>"
      ],
      "text/plain": [
       "              alcohol  ins_premium  speeding  accidents\n",
       "alcohol      1.000000    -0.146921  0.667377   0.850706\n",
       "ins_premium -0.146921     1.000000 -0.059254  -0.174157\n",
       "speeding     0.667377    -0.059254  1.000000   0.608632\n",
       "accidents    0.850706    -0.174157  0.608632   1.000000"
      ]
     },
     "execution_count": 272,
     "metadata": {},
     "output_type": "execute_result"
    }
   ],
   "source": [
    "new_df.corr()"
   ]
  },
  {
   "cell_type": "code",
   "execution_count": 273,
   "metadata": {},
   "outputs": [
    {
     "data": {
      "text/plain": [
       "'speeding'"
      ]
     },
     "execution_count": 273,
     "metadata": {},
     "output_type": "execute_result"
    }
   ],
   "source": [
    "max(new_df.corr())"
   ]
  },
  {
   "cell_type": "code",
   "execution_count": 274,
   "metadata": {},
   "outputs": [
    {
     "data": {
      "text/plain": [
       "'accidents'"
      ]
     },
     "execution_count": 274,
     "metadata": {},
     "output_type": "execute_result"
    }
   ],
   "source": [
    "min(new_df.corr())"
   ]
  },
  {
   "cell_type": "code",
   "execution_count": 275,
   "metadata": {},
   "outputs": [
    {
     "data": {
      "image/png": "[encoded data removed]",
      "text/plain": [
       "<Figure size 720x720 with 2 Axes>"
      ]
     },
     "metadata": {},
     "output_type": "display_data"
    }
   ],
   "source": [
    "heatmap_plot = sns.set(rc={\"figure.figsize\":(10,10)})\n",
    "heatmap_plot = sns.heatmap(new_df.corr(), annot=True, cmap='Spectral')"
   ]
  },
  {
   "cell_type": "markdown",
   "metadata": {},
   "source": [
    "### Now Load a different dataset (MPG dataset number 3)"
   ]
  },
  {
   "cell_type": "code",
   "execution_count": 267,
   "metadata": {},
   "outputs": [
    {
     "name": "stdout",
     "output_type": "stream",
     "text": [
      "(405, 9)\n"
     ]
    },
    {
     "data": {
      "text/html": [
       "<div>\n",
       "<style scoped>\n",
       "    .dataframe tbody tr th:only-of-type {\n",
       "        vertical-align: middle;\n",
       "    }\n",
       "\n",
       "    .dataframe tbody tr th {\n",
       "        vertical-align: top;\n",
       "    }\n",
       "\n",
       "    .dataframe thead th {\n",
       "        text-align: right;\n",
       "    }\n",
       "</style>\n",
       "<table border=\"1\" class=\"dataframe\">\n",
       "  <thead>\n",
       "    <tr style=\"text-align: right;\">\n",
       "      <th></th>\n",
       "      <th>mpg</th>\n",
       "      <th>cylinders</th>\n",
       "      <th>displacement</th>\n",
       "      <th>horsepower</th>\n",
       "      <th>weight</th>\n",
       "      <th>acceleration</th>\n",
       "      <th>model_year</th>\n",
       "      <th>origin</th>\n",
       "      <th>name</th>\n",
       "    </tr>\n",
       "  </thead>\n",
       "  <tbody>\n",
       "    <tr>\n",
       "      <th>0</th>\n",
       "      <td>18.0</td>\n",
       "      <td>8</td>\n",
       "      <td>307.0</td>\n",
       "      <td>130.0</td>\n",
       "      <td>3504.0</td>\n",
       "      <td>12.0</td>\n",
       "      <td>70</td>\n",
       "      <td>usa</td>\n",
       "      <td>chevrolet chevelle malibu</td>\n",
       "    </tr>\n",
       "    <tr>\n",
       "      <th>1</th>\n",
       "      <td>15.0</td>\n",
       "      <td>8</td>\n",
       "      <td>350.0</td>\n",
       "      <td>165.0</td>\n",
       "      <td>3693.0</td>\n",
       "      <td>11.5</td>\n",
       "      <td>70</td>\n",
       "      <td>usa</td>\n",
       "      <td>buick skylark 320</td>\n",
       "    </tr>\n",
       "    <tr>\n",
       "      <th>2</th>\n",
       "      <td>18.0</td>\n",
       "      <td>8</td>\n",
       "      <td>318.0</td>\n",
       "      <td>150.0</td>\n",
       "      <td>3436.0</td>\n",
       "      <td>11.0</td>\n",
       "      <td>70</td>\n",
       "      <td>usa</td>\n",
       "      <td>plymouth satellite</td>\n",
       "    </tr>\n",
       "    <tr>\n",
       "      <th>3</th>\n",
       "      <td>16.0</td>\n",
       "      <td>8</td>\n",
       "      <td>304.0</td>\n",
       "      <td>150.0</td>\n",
       "      <td>3433.0</td>\n",
       "      <td>12.0</td>\n",
       "      <td>70</td>\n",
       "      <td>usa</td>\n",
       "      <td>amc rebel sst</td>\n",
       "    </tr>\n",
       "    <tr>\n",
       "      <th>4</th>\n",
       "      <td>17.0</td>\n",
       "      <td>8</td>\n",
       "      <td>302.0</td>\n",
       "      <td>140.0</td>\n",
       "      <td>3449.0</td>\n",
       "      <td>10.5</td>\n",
       "      <td>70</td>\n",
       "      <td>usa</td>\n",
       "      <td>ford torino</td>\n",
       "    </tr>\n",
       "  </tbody>\n",
       "</table>\n",
       "</div>"
      ],
      "text/plain": [
       "    mpg  cylinders  displacement  horsepower  weight  acceleration  \\\n",
       "0  18.0          8         307.0       130.0  3504.0          12.0   \n",
       "1  15.0          8         350.0       165.0  3693.0          11.5   \n",
       "2  18.0          8         318.0       150.0  3436.0          11.0   \n",
       "3  16.0          8         304.0       150.0  3433.0          12.0   \n",
       "4  17.0          8         302.0       140.0  3449.0          10.5   \n",
       "\n",
       "   model_year origin                       name  \n",
       "0          70    usa  chevrolet chevelle malibu  \n",
       "1          70    usa          buick skylark 320  \n",
       "2          70    usa         plymouth satellite  \n",
       "3          70    usa              amc rebel sst  \n",
       "4          70    usa                ford torino  "
      ]
     },
     "execution_count": 267,
     "metadata": {},
     "output_type": "execute_result"
    }
   ],
   "source": [
    "mpg = pd.read_csv(\"mpg3.csv\")\n",
    "print(mpg.shape)\n",
    "mpg.head()"
   ]
  },
  {
   "cell_type": "markdown",
   "metadata": {},
   "source": [
    "# Question 13: Check to see if there are any missing values. Fix the missing values by imputing value from the mean."
   ]
  },
  {
   "cell_type": "markdown",
   "metadata": {},
   "source": [
    "### Type your code to fix the missing values by imputing value from the mean"
   ]
  },
  {
   "cell_type": "code",
   "execution_count": 276,
   "metadata": {},
   "outputs": [
    {
     "data": {
      "text/plain": [
       "mpg              True\n",
       "cylinders       False\n",
       "displacement    False\n",
       "horsepower       True\n",
       "weight           True\n",
       "acceleration    False\n",
       "model_year      False\n",
       "origin          False\n",
       "name            False\n",
       "dtype: bool"
      ]
     },
     "execution_count": 276,
     "metadata": {},
     "output_type": "execute_result"
    }
   ],
   "source": [
    "mpg.isnull().any()"
   ]
  },
  {
   "cell_type": "code",
   "execution_count": 277,
   "metadata": {},
   "outputs": [
    {
     "data": {
      "text/plain": [
       "mpg             1\n",
       "cylinders       0\n",
       "displacement    0\n",
       "horsepower      6\n",
       "weight          1\n",
       "acceleration    0\n",
       "model_year      0\n",
       "origin          0\n",
       "name            0\n",
       "dtype: int64"
      ]
     },
     "execution_count": 277,
     "metadata": {},
     "output_type": "execute_result"
    }
   ],
   "source": [
    "mpg.isnull().sum()"
   ]
  },
  {
   "cell_type": "code",
   "execution_count": 278,
   "metadata": {},
   "outputs": [
    {
     "name": "stdout",
     "output_type": "stream",
     "text": [
      "<class 'pandas.core.frame.DataFrame'>\n",
      "RangeIndex: 405 entries, 0 to 404\n",
      "Data columns (total 9 columns):\n",
      " #   Column        Non-Null Count  Dtype  \n",
      "---  ------        --------------  -----  \n",
      " 0   mpg           404 non-null    float64\n",
      " 1   cylinders     405 non-null    int64  \n",
      " 2   displacement  405 non-null    float64\n",
      " 3   horsepower    399 non-null    float64\n",
      " 4   weight        404 non-null    float64\n",
      " 5   acceleration  405 non-null    float64\n",
      " 6   model_year    405 non-null    int64  \n",
      " 7   origin        405 non-null    object \n",
      " 8   name          405 non-null    object \n",
      "dtypes: float64(5), int64(2), object(2)\n",
      "memory usage: 28.6+ KB\n"
     ]
    }
   ],
   "source": [
    "mpg.info()"
   ]
  },
  {
   "cell_type": "code",
   "execution_count": 283,
   "metadata": {},
   "outputs": [],
   "source": [
    "mpg_mean = mpg['mpg'].mean()"
   ]
  },
  {
   "cell_type": "code",
   "execution_count": 287,
   "metadata": {},
   "outputs": [],
   "source": [
    "horsepower_mean = mpg['horsepower'].mean()"
   ]
  },
  {
   "cell_type": "code",
   "execution_count": 288,
   "metadata": {},
   "outputs": [],
   "source": [
    "weight_mean = mpg['weight'].mean()"
   ]
  },
  {
   "cell_type": "code",
   "execution_count": 289,
   "metadata": {},
   "outputs": [
    {
     "data": {
      "text/html": [
       "<div>\n",
       "<style scoped>\n",
       "    .dataframe tbody tr th:only-of-type {\n",
       "        vertical-align: middle;\n",
       "    }\n",
       "\n",
       "    .dataframe tbody tr th {\n",
       "        vertical-align: top;\n",
       "    }\n",
       "\n",
       "    .dataframe thead th {\n",
       "        text-align: right;\n",
       "    }\n",
       "</style>\n",
       "<table border=\"1\" class=\"dataframe\">\n",
       "  <thead>\n",
       "    <tr style=\"text-align: right;\">\n",
       "      <th></th>\n",
       "      <th>mpg</th>\n",
       "      <th>cylinders</th>\n",
       "      <th>displacement</th>\n",
       "      <th>horsepower</th>\n",
       "      <th>weight</th>\n",
       "      <th>acceleration</th>\n",
       "      <th>model_year</th>\n",
       "    </tr>\n",
       "  </thead>\n",
       "  <tbody>\n",
       "    <tr>\n",
       "      <th>count</th>\n",
       "      <td>404.000000</td>\n",
       "      <td>405.000000</td>\n",
       "      <td>405.000000</td>\n",
       "      <td>399.000000</td>\n",
       "      <td>404.000000</td>\n",
       "      <td>405.000000</td>\n",
       "      <td>405.000000</td>\n",
       "    </tr>\n",
       "    <tr>\n",
       "      <th>mean</th>\n",
       "      <td>23.645545</td>\n",
       "      <td>5.493827</td>\n",
       "      <td>194.504938</td>\n",
       "      <td>105.593985</td>\n",
       "      <td>3020.866337</td>\n",
       "      <td>15.521481</td>\n",
       "      <td>75.987654</td>\n",
       "    </tr>\n",
       "    <tr>\n",
       "      <th>std</th>\n",
       "      <td>8.465607</td>\n",
       "      <td>1.847687</td>\n",
       "      <td>105.231828</td>\n",
       "      <td>42.317959</td>\n",
       "      <td>1282.513294</td>\n",
       "      <td>2.792380</td>\n",
       "      <td>3.746595</td>\n",
       "    </tr>\n",
       "    <tr>\n",
       "      <th>min</th>\n",
       "      <td>9.000000</td>\n",
       "      <td>3.000000</td>\n",
       "      <td>68.000000</td>\n",
       "      <td>46.000000</td>\n",
       "      <td>1613.000000</td>\n",
       "      <td>8.000000</td>\n",
       "      <td>70.000000</td>\n",
       "    </tr>\n",
       "    <tr>\n",
       "      <th>25%</th>\n",
       "      <td>17.000000</td>\n",
       "      <td>4.000000</td>\n",
       "      <td>105.000000</td>\n",
       "      <td>76.000000</td>\n",
       "      <td>2227.500000</td>\n",
       "      <td>13.800000</td>\n",
       "      <td>73.000000</td>\n",
       "    </tr>\n",
       "    <tr>\n",
       "      <th>50%</th>\n",
       "      <td>23.000000</td>\n",
       "      <td>4.000000</td>\n",
       "      <td>151.000000</td>\n",
       "      <td>95.000000</td>\n",
       "      <td>2803.500000</td>\n",
       "      <td>15.500000</td>\n",
       "      <td>76.000000</td>\n",
       "    </tr>\n",
       "    <tr>\n",
       "      <th>75%</th>\n",
       "      <td>29.000000</td>\n",
       "      <td>8.000000</td>\n",
       "      <td>267.000000</td>\n",
       "      <td>129.000000</td>\n",
       "      <td>3614.750000</td>\n",
       "      <td>17.100000</td>\n",
       "      <td>79.000000</td>\n",
       "    </tr>\n",
       "    <tr>\n",
       "      <th>max</th>\n",
       "      <td>90.000000</td>\n",
       "      <td>20.000000</td>\n",
       "      <td>455.000000</td>\n",
       "      <td>450.000000</td>\n",
       "      <td>22340.000000</td>\n",
       "      <td>24.800000</td>\n",
       "      <td>85.000000</td>\n",
       "    </tr>\n",
       "  </tbody>\n",
       "</table>\n",
       "</div>"
      ],
      "text/plain": [
       "              mpg   cylinders  displacement  horsepower        weight  \\\n",
       "count  404.000000  405.000000    405.000000  399.000000    404.000000   \n",
       "mean    23.645545    5.493827    194.504938  105.593985   3020.866337   \n",
       "std      8.465607    1.847687    105.231828   42.317959   1282.513294   \n",
       "min      9.000000    3.000000     68.000000   46.000000   1613.000000   \n",
       "25%     17.000000    4.000000    105.000000   76.000000   2227.500000   \n",
       "50%     23.000000    4.000000    151.000000   95.000000   2803.500000   \n",
       "75%     29.000000    8.000000    267.000000  129.000000   3614.750000   \n",
       "max     90.000000   20.000000    455.000000  450.000000  22340.000000   \n",
       "\n",
       "       acceleration  model_year  \n",
       "count    405.000000  405.000000  \n",
       "mean      15.521481   75.987654  \n",
       "std        2.792380    3.746595  \n",
       "min        8.000000   70.000000  \n",
       "25%       13.800000   73.000000  \n",
       "50%       15.500000   76.000000  \n",
       "75%       17.100000   79.000000  \n",
       "max       24.800000   85.000000  "
      ]
     },
     "execution_count": 289,
     "metadata": {},
     "output_type": "execute_result"
    }
   ],
   "source": [
    "mpg.describe()"
   ]
  },
  {
   "cell_type": "code",
   "execution_count": 290,
   "metadata": {},
   "outputs": [],
   "source": [
    "var1 = 'mpg'\n",
    "var2 = 'horsepower'\n",
    "var3 = 'weight'\n",
    "new_mpg = mpg[var1].fillna(mpg_mean)\n",
    "new_horsepower = mpg[var2].fillna(horsepower_mean)\n",
    "new_weight = mpg[var3].fillna(weight_mean)"
   ]
  },
  {
   "cell_type": "code",
   "execution_count": 292,
   "metadata": {},
   "outputs": [
    {
     "data": {
      "text/plain": [
       "0"
      ]
     },
     "execution_count": 292,
     "metadata": {},
     "output_type": "execute_result"
    }
   ],
   "source": [
    "new_mpg.isnull().sum()"
   ]
  },
  {
   "cell_type": "code",
   "execution_count": 293,
   "metadata": {},
   "outputs": [
    {
     "data": {
      "text/plain": [
       "0"
      ]
     },
     "execution_count": 293,
     "metadata": {},
     "output_type": "execute_result"
    }
   ],
   "source": [
    "new_horsepower.isnull().sum()"
   ]
  },
  {
   "cell_type": "code",
   "execution_count": 294,
   "metadata": {},
   "outputs": [
    {
     "data": {
      "text/plain": [
       "0"
      ]
     },
     "execution_count": 294,
     "metadata": {},
     "output_type": "execute_result"
    }
   ],
   "source": [
    "new_weight.isnull().sum()"
   ]
  },
  {
   "cell_type": "code",
   "execution_count": 296,
   "metadata": {},
   "outputs": [
    {
     "name": "stdout",
     "output_type": "stream",
     "text": [
      "              mpg   cylinders  displacement  horsepower        weight  \\\n",
      "count  405.000000  405.000000    405.000000  399.000000    404.000000   \n",
      "mean    23.645545    5.493827    194.504938  105.593985   3020.866337   \n",
      "std      8.455124    1.847687    105.231828   42.317959   1282.513294   \n",
      "min      9.000000    3.000000     68.000000   46.000000   1613.000000   \n",
      "25%     17.000000    4.000000    105.000000   76.000000   2227.500000   \n",
      "50%     23.000000    4.000000    151.000000   95.000000   2803.500000   \n",
      "75%     29.000000    8.000000    267.000000  129.000000   3614.750000   \n",
      "max     90.000000   20.000000    455.000000  450.000000  22340.000000   \n",
      "\n",
      "       acceleration  model_year  \n",
      "count    405.000000  405.000000  \n",
      "mean      15.521481   75.987654  \n",
      "std        2.792380    3.746595  \n",
      "min        8.000000   70.000000  \n",
      "25%       13.800000   73.000000  \n",
      "50%       15.500000   76.000000  \n",
      "75%       17.100000   79.000000  \n",
      "max       24.800000   85.000000  \n"
     ]
    },
    {
     "data": {
      "text/plain": [
       "mpg             False\n",
       "cylinders       False\n",
       "displacement    False\n",
       "horsepower       True\n",
       "weight           True\n",
       "acceleration    False\n",
       "model_year      False\n",
       "origin          False\n",
       "name            False\n",
       "dtype: bool"
      ]
     },
     "execution_count": 296,
     "metadata": {},
     "output_type": "execute_result"
    }
   ],
   "source": [
    "mpg[var1] = new_mpg\n",
    "print(mpg.describe())\n",
    "mpg.isnull().any()"
   ]
  },
  {
   "cell_type": "code",
   "execution_count": 297,
   "metadata": {},
   "outputs": [
    {
     "name": "stdout",
     "output_type": "stream",
     "text": [
      "              mpg   cylinders  displacement  horsepower        weight  \\\n",
      "count  405.000000  405.000000    405.000000  405.000000    404.000000   \n",
      "mean    23.645545    5.493827    194.504938  105.593985   3020.866337   \n",
      "std      8.455124    1.847687    105.231828   42.002541   1282.513294   \n",
      "min      9.000000    3.000000     68.000000   46.000000   1613.000000   \n",
      "25%     17.000000    4.000000    105.000000   76.000000   2227.500000   \n",
      "50%     23.000000    4.000000    151.000000   95.000000   2803.500000   \n",
      "75%     29.000000    8.000000    267.000000  125.000000   3614.750000   \n",
      "max     90.000000   20.000000    455.000000  450.000000  22340.000000   \n",
      "\n",
      "       acceleration  model_year  \n",
      "count    405.000000  405.000000  \n",
      "mean      15.521481   75.987654  \n",
      "std        2.792380    3.746595  \n",
      "min        8.000000   70.000000  \n",
      "25%       13.800000   73.000000  \n",
      "50%       15.500000   76.000000  \n",
      "75%       17.100000   79.000000  \n",
      "max       24.800000   85.000000  \n"
     ]
    },
    {
     "data": {
      "text/plain": [
       "mpg             False\n",
       "cylinders       False\n",
       "displacement    False\n",
       "horsepower      False\n",
       "weight           True\n",
       "acceleration    False\n",
       "model_year      False\n",
       "origin          False\n",
       "name            False\n",
       "dtype: bool"
      ]
     },
     "execution_count": 297,
     "metadata": {},
     "output_type": "execute_result"
    }
   ],
   "source": [
    "mpg[var2] = new_horsepower\n",
    "print(mpg.describe())\n",
    "mpg.isnull().any()"
   ]
  },
  {
   "cell_type": "code",
   "execution_count": 298,
   "metadata": {},
   "outputs": [
    {
     "name": "stdout",
     "output_type": "stream",
     "text": [
      "count      405.000000\n",
      "mean      3020.866337\n",
      "std       1280.925042\n",
      "min       1613.000000\n",
      "25%       2228.000000\n",
      "50%       2807.000000\n",
      "75%       3613.000000\n",
      "max      22340.000000\n",
      "Name: weight, dtype: float64\n"
     ]
    },
    {
     "data": {
      "text/plain": [
       "mpg             False\n",
       "cylinders       False\n",
       "displacement    False\n",
       "horsepower      False\n",
       "weight          False\n",
       "acceleration    False\n",
       "model_year      False\n",
       "origin          False\n",
       "name            False\n",
       "dtype: bool"
      ]
     },
     "execution_count": 298,
     "metadata": {},
     "output_type": "execute_result"
    }
   ],
   "source": [
    "mpg[var3] = new_weight\n",
    "print(new_weight.describe())\n",
    "mpg.isnull().any()"
   ]
  },
  {
   "cell_type": "code",
   "execution_count": 299,
   "metadata": {},
   "outputs": [
    {
     "data": {
      "text/plain": [
       "mpg             0\n",
       "cylinders       0\n",
       "displacement    0\n",
       "horsepower      0\n",
       "weight          0\n",
       "acceleration    0\n",
       "model_year      0\n",
       "origin          0\n",
       "name            0\n",
       "dtype: int64"
      ]
     },
     "execution_count": 299,
     "metadata": {},
     "output_type": "execute_result"
    }
   ],
   "source": [
    "mpg.isnull().sum()"
   ]
  }
 ],
 "metadata": {
  "kernelspec": {
   "display_name": "Python 3",
   "language": "python",
   "name": "python3"
  },
  "language_info": {
   "codemirror_mode": {
    "name": "ipython",
    "version": 3
   },
   "file_extension": ".py",
   "mimetype": "text/x-python",
   "name": "python",
   "nbconvert_exporter": "python",
   "pygments_lexer": "ipython3",
   "version": "3.8.5"
  }
 },
 "nbformat": 4,
 "nbformat_minor": 2
}
